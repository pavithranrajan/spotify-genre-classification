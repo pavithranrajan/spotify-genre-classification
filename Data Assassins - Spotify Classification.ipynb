{
  "cells": [
    {
      "cell_type": "markdown",
      "metadata": {
        "id": "JPlyn4O350WW"
      },
      "source": [
        "# **Data Assassins** \n",
        "\n",
        "\n",
        "---\n",
        "###**Spotify Classification Problem**\n",
        "\n",
        "---\n",
        "\n",
        "\n",
        "\n",
    
        "\n",
        "\n",
        "##Summary\n",
        "\n",
        ">As streaming songs get ever-popular, music streaming service providers like Spotify, Apple Music deal with more enormous music data every day. This is where machine learning and deep learning come to play. Machine learning algorithms are already applied to produce recommended playlists based on listening preferences, and this is just the beginning of all that’s possible with artificial intelligence. Using the Spotify dataset, this assignment requires us to build a machine learning model to predict the song’s genre. Our first task was to load the dataset and explore its many quirks through data analyses and visualisations. We performed data exploration and data cleaning in our data analysis section of this notebook. Then we tested out several models to observe and understand how they work and improve them. Then we settled on our final model, a random forest classifier that provides us with the highest accuracy values. The accuracy score offered by our model is 0.4782, and the predictions made on Kaggle produced an accuracy score of 0.3241. we provide several suggestions, in the end, to improve our model and obtain a better accuracy score.\n",
        "\n",
        "\n",
        "\n"
      ]
    },
    {
      "cell_type": "markdown",
      "source": [
        "#Spotify Classification Project"
      ],
      "metadata": {
        "id": "df8wwTRH4xc2"
      }
    },
    {
      "cell_type": "markdown",
      "source": [
        ">Importing all the required packages like pandas, matlab plot and numpy. "
      ],
      "metadata": {
        "id": "xhYskeHOuMWk"
      }
    },
    {
      "cell_type": "code",
      "execution_count": 64,
      "metadata": {
        "id": "pP605tEM5puh"
      },
      "outputs": [],
      "source": [
        "#Import Necessary Packages\n",
        "import pandas as pd\n",
        "import numpy as np\n",
        "import matplotlib.pyplot as plt"
      ]
    },
    {
      "cell_type": "markdown",
      "metadata": {
        "id": "AITC62v9-Krs"
      },
      "source": [
        "##Dataset Analysis\n",
        ">The Spotify dataset provided to train the model contains 453 songs on the song title, artist, top genre, the year it was released, beats per minute, energy, danceability, loudness, liveness, valence, duration, acoustics, speech and popularity."
      ]
    },
    {
      "cell_type": "markdown",
      "source": [
        "###Getting The data\n",
        ">Load the dataset to the program and use the head() function to observe the dataset."
      ],
      "metadata": {
        "id": "NPg2Lpd8u7CY"
      }
    },
    {
      "cell_type": "code",
      "execution_count": 65,
      "metadata": {
        "colab": {
          "base_uri": "https://localhost:8080/",
          "height": 350
        },
        "id": "52kRGbaD-LMo",
        "outputId": "bcf3f1a2-2d51-43e8-dc09-fa85bbf33e32"
      },
      "outputs": [
        {
          "output_type": "execute_result",
          "data": {
            "text/html": [
              "\n",
              "  <div id=\"df-07ffe202-473a-44d3-a308-cdcefff20cd8\">\n",
              "    <div class=\"colab-df-container\">\n",
              "      <div>\n",
              "<style scoped>\n",
              "    .dataframe tbody tr th:only-of-type {\n",
              "        vertical-align: middle;\n",
              "    }\n",
              "\n",
              "    .dataframe tbody tr th {\n",
              "        vertical-align: top;\n",
              "    }\n",
              "\n",
              "    .dataframe thead th {\n",
              "        text-align: right;\n",
              "    }\n",
              "</style>\n",
              "<table border=\"1\" class=\"dataframe\">\n",
              "  <thead>\n",
              "    <tr style=\"text-align: right;\">\n",
              "      <th></th>\n",
              "      <th>Id</th>\n",
              "      <th>title</th>\n",
              "      <th>artist</th>\n",
              "      <th>year</th>\n",
              "      <th>bpm</th>\n",
              "      <th>nrgy</th>\n",
              "      <th>dnce</th>\n",
              "      <th>dB</th>\n",
              "      <th>live</th>\n",
              "      <th>val</th>\n",
              "      <th>dur</th>\n",
              "      <th>acous</th>\n",
              "      <th>spch</th>\n",
              "      <th>pop</th>\n",
              "      <th>top genre</th>\n",
              "    </tr>\n",
              "  </thead>\n",
              "  <tbody>\n",
              "    <tr>\n",
              "      <th>0</th>\n",
              "      <td>1</td>\n",
              "      <td>My Happiness</td>\n",
              "      <td>Connie Francis</td>\n",
              "      <td>1996</td>\n",
              "      <td>107</td>\n",
              "      <td>31</td>\n",
              "      <td>45</td>\n",
              "      <td>-8</td>\n",
              "      <td>13</td>\n",
              "      <td>28</td>\n",
              "      <td>150</td>\n",
              "      <td>75</td>\n",
              "      <td>3</td>\n",
              "      <td>44</td>\n",
              "      <td>adult standards</td>\n",
              "    </tr>\n",
              "    <tr>\n",
              "      <th>1</th>\n",
              "      <td>2</td>\n",
              "      <td>Unchained Melody</td>\n",
              "      <td>The Teddy Bears</td>\n",
              "      <td>2011</td>\n",
              "      <td>114</td>\n",
              "      <td>44</td>\n",
              "      <td>53</td>\n",
              "      <td>-8</td>\n",
              "      <td>13</td>\n",
              "      <td>47</td>\n",
              "      <td>139</td>\n",
              "      <td>49</td>\n",
              "      <td>3</td>\n",
              "      <td>37</td>\n",
              "      <td>NaN</td>\n",
              "    </tr>\n",
              "    <tr>\n",
              "      <th>2</th>\n",
              "      <td>3</td>\n",
              "      <td>How Deep Is Your Love</td>\n",
              "      <td>Bee Gees</td>\n",
              "      <td>1979</td>\n",
              "      <td>105</td>\n",
              "      <td>36</td>\n",
              "      <td>63</td>\n",
              "      <td>-9</td>\n",
              "      <td>13</td>\n",
              "      <td>67</td>\n",
              "      <td>245</td>\n",
              "      <td>11</td>\n",
              "      <td>3</td>\n",
              "      <td>77</td>\n",
              "      <td>adult standards</td>\n",
              "    </tr>\n",
              "    <tr>\n",
              "      <th>3</th>\n",
              "      <td>4</td>\n",
              "      <td>Woman in Love</td>\n",
              "      <td>Barbra Streisand</td>\n",
              "      <td>1980</td>\n",
              "      <td>170</td>\n",
              "      <td>28</td>\n",
              "      <td>47</td>\n",
              "      <td>-16</td>\n",
              "      <td>13</td>\n",
              "      <td>33</td>\n",
              "      <td>232</td>\n",
              "      <td>25</td>\n",
              "      <td>3</td>\n",
              "      <td>67</td>\n",
              "      <td>adult standards</td>\n",
              "    </tr>\n",
              "    <tr>\n",
              "      <th>4</th>\n",
              "      <td>5</td>\n",
              "      <td>Goodbye Yellow Brick Road - Remastered 2014</td>\n",
              "      <td>Elton John</td>\n",
              "      <td>1973</td>\n",
              "      <td>121</td>\n",
              "      <td>47</td>\n",
              "      <td>56</td>\n",
              "      <td>-8</td>\n",
              "      <td>15</td>\n",
              "      <td>40</td>\n",
              "      <td>193</td>\n",
              "      <td>45</td>\n",
              "      <td>3</td>\n",
              "      <td>63</td>\n",
              "      <td>glam rock</td>\n",
              "    </tr>\n",
              "  </tbody>\n",
              "</table>\n",
              "</div>\n",
              "      <button class=\"colab-df-convert\" onclick=\"convertToInteractive('df-07ffe202-473a-44d3-a308-cdcefff20cd8')\"\n",
              "              title=\"Convert this dataframe to an interactive table.\"\n",
              "              style=\"display:none;\">\n",
              "        \n",
              "  <svg xmlns=\"http://www.w3.org/2000/svg\" height=\"24px\"viewBox=\"0 0 24 24\"\n",
              "       width=\"24px\">\n",
              "    <path d=\"M0 0h24v24H0V0z\" fill=\"none\"/>\n",
              "    <path d=\"M18.56 5.44l.94 2.06.94-2.06 2.06-.94-2.06-.94-.94-2.06-.94 2.06-2.06.94zm-11 1L8.5 8.5l.94-2.06 2.06-.94-2.06-.94L8.5 2.5l-.94 2.06-2.06.94zm10 10l.94 2.06.94-2.06 2.06-.94-2.06-.94-.94-2.06-.94 2.06-2.06.94z\"/><path d=\"M17.41 7.96l-1.37-1.37c-.4-.4-.92-.59-1.43-.59-.52 0-1.04.2-1.43.59L10.3 9.45l-7.72 7.72c-.78.78-.78 2.05 0 2.83L4 21.41c.39.39.9.59 1.41.59.51 0 1.02-.2 1.41-.59l7.78-7.78 2.81-2.81c.8-.78.8-2.07 0-2.86zM5.41 20L4 18.59l7.72-7.72 1.47 1.35L5.41 20z\"/>\n",
              "  </svg>\n",
              "      </button>\n",
              "      \n",
              "  <style>\n",
              "    .colab-df-container {\n",
              "      display:flex;\n",
              "      flex-wrap:wrap;\n",
              "      gap: 12px;\n",
              "    }\n",
              "\n",
              "    .colab-df-convert {\n",
              "      background-color: #E8F0FE;\n",
              "      border: none;\n",
              "      border-radius: 50%;\n",
              "      cursor: pointer;\n",
              "      display: none;\n",
              "      fill: #1967D2;\n",
              "      height: 32px;\n",
              "      padding: 0 0 0 0;\n",
              "      width: 32px;\n",
              "    }\n",
              "\n",
              "    .colab-df-convert:hover {\n",
              "      background-color: #E2EBFA;\n",
              "      box-shadow: 0px 1px 2px rgba(60, 64, 67, 0.3), 0px 1px 3px 1px rgba(60, 64, 67, 0.15);\n",
              "      fill: #174EA6;\n",
              "    }\n",
              "\n",
              "    [theme=dark] .colab-df-convert {\n",
              "      background-color: #3B4455;\n",
              "      fill: #D2E3FC;\n",
              "    }\n",
              "\n",
              "    [theme=dark] .colab-df-convert:hover {\n",
              "      background-color: #434B5C;\n",
              "      box-shadow: 0px 1px 3px 1px rgba(0, 0, 0, 0.15);\n",
              "      filter: drop-shadow(0px 1px 2px rgba(0, 0, 0, 0.3));\n",
              "      fill: #FFFFFF;\n",
              "    }\n",
              "  </style>\n",
              "\n",
              "      <script>\n",
              "        const buttonEl =\n",
              "          document.querySelector('#df-07ffe202-473a-44d3-a308-cdcefff20cd8 button.colab-df-convert');\n",
              "        buttonEl.style.display =\n",
              "          google.colab.kernel.accessAllowed ? 'block' : 'none';\n",
              "\n",
              "        async function convertToInteractive(key) {\n",
              "          const element = document.querySelector('#df-07ffe202-473a-44d3-a308-cdcefff20cd8');\n",
              "          const dataTable =\n",
              "            await google.colab.kernel.invokeFunction('convertToInteractive',\n",
              "                                                     [key], {});\n",
              "          if (!dataTable) return;\n",
              "\n",
              "          const docLinkHtml = 'Like what you see? Visit the ' +\n",
              "            '<a target=\"_blank\" href=https://colab.research.google.com/notebooks/data_table.ipynb>data table notebook</a>'\n",
              "            + ' to learn more about interactive tables.';\n",
              "          element.innerHTML = '';\n",
              "          dataTable['output_type'] = 'display_data';\n",
              "          await google.colab.output.renderOutput(dataTable, element);\n",
              "          const docLink = document.createElement('div');\n",
              "          docLink.innerHTML = docLinkHtml;\n",
              "          element.appendChild(docLink);\n",
              "        }\n",
              "      </script>\n",
              "    </div>\n",
              "  </div>\n",
              "  "
            ],
            "text/plain": [
              "   Id                                        title  ... pop        top genre\n",
              "0   1                                 My Happiness  ...  44  adult standards\n",
              "1   2                             Unchained Melody  ...  37              NaN\n",
              "2   3                        How Deep Is Your Love  ...  77  adult standards\n",
              "3   4                                Woman in Love  ...  67  adult standards\n",
              "4   5  Goodbye Yellow Brick Road - Remastered 2014  ...  63        glam rock\n",
              "\n",
              "[5 rows x 15 columns]"
            ]
          },
          "metadata": {},
          "execution_count": 65
        }
      ],
      "source": [
        "#Load the Dataset\n",
        "train_data = pd.read_csv(r\"CS98XClassificationTrain.csv\")\n",
        "train_data.head()"
      ]
    },
    {
      "cell_type": "markdown",
      "source": [
        ">Count the number of rows in the dataset.We can observe that the dataset contains 453 songs."
      ],
      "metadata": {
        "id": "aKQc7Qe7si5k"
      }
    },
    {
      "cell_type": "code",
      "execution_count": 66,
      "metadata": {
        "colab": {
          "base_uri": "https://localhost:8080/"
        },
        "id": "_3eBnme8TpTm",
        "outputId": "93939124-1c16-4823-fc4c-f58fba70ac1e"
      },
      "outputs": [
        {
          "output_type": "execute_result",
          "data": {
            "text/plain": [
              "Id           453\n",
              "title        453\n",
              "artist       453\n",
              "year         453\n",
              "bpm          453\n",
              "nrgy         453\n",
              "dnce         453\n",
              "dB           453\n",
              "live         453\n",
              "val          453\n",
              "dur          453\n",
              "acous        453\n",
              "spch         453\n",
              "pop          453\n",
              "top genre    438\n",
              "dtype: int64"
            ]
          },
          "metadata": {},
          "execution_count": 66
        }
      ],
      "source": [
        "#Display number of elements in each column of the dataset\n",
        "train_data.count()"
      ]
    },
    {
      "cell_type": "markdown",
      "source": [
        ">isnull() and sum() functions are used to count the null values in the dataset. There seems to be 15 null values in 'top genre'."
      ],
      "metadata": {
        "id": "t_iqp6P8pJtx"
      }
    },
    {
      "cell_type": "code",
      "execution_count": 67,
      "metadata": {
        "colab": {
          "base_uri": "https://localhost:8080/"
        },
        "id": "4-RfBkaaT2eQ",
        "outputId": "d9cc6a1f-fc76-44ca-c6cc-743ed02e3330"
      },
      "outputs": [
        {
          "output_type": "execute_result",
          "data": {
            "text/plain": [
              "Id            0\n",
              "title         0\n",
              "artist        0\n",
              "year          0\n",
              "bpm           0\n",
              "nrgy          0\n",
              "dnce          0\n",
              "dB            0\n",
              "live          0\n",
              "val           0\n",
              "dur           0\n",
              "acous         0\n",
              "spch          0\n",
              "pop           0\n",
              "top genre    15\n",
              "dtype: int64"
            ]
          },
          "metadata": {},
          "execution_count": 67
        }
      ],
      "source": [
        "#Display number of null elements in each column of the dataset\n",
        "train_data.isnull().sum()"
      ]
    },
    {
      "cell_type": "markdown",
      "source": [
        "###Dealing with Missing Values\n",
        ">The missing values are replaced with most frequent genre in this dataset, which is adult standards. "
      ],
      "metadata": {
        "id": "E1v1WW_FvNEu"
      }
    },
    {
      "cell_type": "code",
      "execution_count": 68,
      "metadata": {
        "colab": {
          "base_uri": "https://localhost:8080/"
        },
        "id": "XtyyFvDB-QU2",
        "outputId": "31e99ca2-747c-48b4-b168-0c8e9108cb72"
      },
      "outputs": [
        {
          "output_type": "execute_result",
          "data": {
            "text/plain": [
              "0         adult standards\n",
              "1         adult standards\n",
              "2         adult standards\n",
              "3         adult standards\n",
              "4               glam rock\n",
              "              ...        \n",
              "448       adult standards\n",
              "449    brill building pop\n",
              "450             dance pop\n",
              "451              boy band\n",
              "452            album rock\n",
              "Name: top genre, Length: 453, dtype: object"
            ]
          },
          "metadata": {},
          "execution_count": 68
        }
      ],
      "source": [
        "#Replcace the Null values with the most frequent genre\n",
        "train_data['top genre'].replace('',np.NaN)\n",
        "train_data['top genre'].fillna('adult standards')\n",
        "\n",
        "#train_data = train_data.dropna(axis=0)\n"
      ]
    },
    {
      "cell_type": "markdown",
      "source": [
        "###Encoding the categorical data\n",
        ">To make 'top genre' predictions on the model, Label encoding needed to be performed since its a categorical data. This is done using the Label Encoder class and visualised using the head() function."
      ],
      "metadata": {
        "id": "Rha1e8Bxvfkk"
      }
    },
    {
      "cell_type": "code",
      "execution_count": 69,
      "metadata": {
        "id": "xEqi-HYUrSv5",
        "colab": {
          "base_uri": "https://localhost:8080/",
          "height": 488
        },
        "outputId": "01890f02-12e8-48de-a16e-b2537f08a42b"
      },
      "outputs": [
        {
          "output_type": "execute_result",
          "data": {
            "text/html": [
              "\n",
              "  <div id=\"df-c6beb603-6bc3-4477-b943-7e3b70e02118\">\n",
              "    <div class=\"colab-df-container\">\n",
              "      <div>\n",
              "<style scoped>\n",
              "    .dataframe tbody tr th:only-of-type {\n",
              "        vertical-align: middle;\n",
              "    }\n",
              "\n",
              "    .dataframe tbody tr th {\n",
              "        vertical-align: top;\n",
              "    }\n",
              "\n",
              "    .dataframe thead th {\n",
              "        text-align: right;\n",
              "    }\n",
              "</style>\n",
              "<table border=\"1\" class=\"dataframe\">\n",
              "  <thead>\n",
              "    <tr style=\"text-align: right;\">\n",
              "      <th></th>\n",
              "      <th>Id</th>\n",
              "      <th>title</th>\n",
              "      <th>artist</th>\n",
              "      <th>year</th>\n",
              "      <th>bpm</th>\n",
              "      <th>nrgy</th>\n",
              "      <th>dnce</th>\n",
              "      <th>dB</th>\n",
              "      <th>live</th>\n",
              "      <th>val</th>\n",
              "      <th>dur</th>\n",
              "      <th>acous</th>\n",
              "      <th>spch</th>\n",
              "      <th>pop</th>\n",
              "      <th>top genre</th>\n",
              "    </tr>\n",
              "  </thead>\n",
              "  <tbody>\n",
              "    <tr>\n",
              "      <th>0</th>\n",
              "      <td>1</td>\n",
              "      <td>My Happiness</td>\n",
              "      <td>Connie Francis</td>\n",
              "      <td>1996</td>\n",
              "      <td>107</td>\n",
              "      <td>31</td>\n",
              "      <td>45</td>\n",
              "      <td>-8</td>\n",
              "      <td>13</td>\n",
              "      <td>28</td>\n",
              "      <td>150</td>\n",
              "      <td>75</td>\n",
              "      <td>3</td>\n",
              "      <td>44</td>\n",
              "      <td>1</td>\n",
              "    </tr>\n",
              "    <tr>\n",
              "      <th>1</th>\n",
              "      <td>2</td>\n",
              "      <td>Unchained Melody</td>\n",
              "      <td>The Teddy Bears</td>\n",
              "      <td>2011</td>\n",
              "      <td>114</td>\n",
              "      <td>44</td>\n",
              "      <td>53</td>\n",
              "      <td>-8</td>\n",
              "      <td>13</td>\n",
              "      <td>47</td>\n",
              "      <td>139</td>\n",
              "      <td>49</td>\n",
              "      <td>3</td>\n",
              "      <td>37</td>\n",
              "      <td>86</td>\n",
              "    </tr>\n",
              "    <tr>\n",
              "      <th>2</th>\n",
              "      <td>3</td>\n",
              "      <td>How Deep Is Your Love</td>\n",
              "      <td>Bee Gees</td>\n",
              "      <td>1979</td>\n",
              "      <td>105</td>\n",
              "      <td>36</td>\n",
              "      <td>63</td>\n",
              "      <td>-9</td>\n",
              "      <td>13</td>\n",
              "      <td>67</td>\n",
              "      <td>245</td>\n",
              "      <td>11</td>\n",
              "      <td>3</td>\n",
              "      <td>77</td>\n",
              "      <td>1</td>\n",
              "    </tr>\n",
              "    <tr>\n",
              "      <th>3</th>\n",
              "      <td>4</td>\n",
              "      <td>Woman in Love</td>\n",
              "      <td>Barbra Streisand</td>\n",
              "      <td>1980</td>\n",
              "      <td>170</td>\n",
              "      <td>28</td>\n",
              "      <td>47</td>\n",
              "      <td>-16</td>\n",
              "      <td>13</td>\n",
              "      <td>33</td>\n",
              "      <td>232</td>\n",
              "      <td>25</td>\n",
              "      <td>3</td>\n",
              "      <td>67</td>\n",
              "      <td>1</td>\n",
              "    </tr>\n",
              "    <tr>\n",
              "      <th>4</th>\n",
              "      <td>5</td>\n",
              "      <td>Goodbye Yellow Brick Road - Remastered 2014</td>\n",
              "      <td>Elton John</td>\n",
              "      <td>1973</td>\n",
              "      <td>121</td>\n",
              "      <td>47</td>\n",
              "      <td>56</td>\n",
              "      <td>-8</td>\n",
              "      <td>15</td>\n",
              "      <td>40</td>\n",
              "      <td>193</td>\n",
              "      <td>45</td>\n",
              "      <td>3</td>\n",
              "      <td>63</td>\n",
              "      <td>68</td>\n",
              "    </tr>\n",
              "    <tr>\n",
              "      <th>5</th>\n",
              "      <td>6</td>\n",
              "      <td>Grenade</td>\n",
              "      <td>Bruno Mars</td>\n",
              "      <td>2010</td>\n",
              "      <td>110</td>\n",
              "      <td>56</td>\n",
              "      <td>71</td>\n",
              "      <td>-7</td>\n",
              "      <td>12</td>\n",
              "      <td>23</td>\n",
              "      <td>223</td>\n",
              "      <td>15</td>\n",
              "      <td>6</td>\n",
              "      <td>74</td>\n",
              "      <td>80</td>\n",
              "    </tr>\n",
              "    <tr>\n",
              "      <th>6</th>\n",
              "      <td>7</td>\n",
              "      <td>No Time</td>\n",
              "      <td>The Guess Who</td>\n",
              "      <td>1971</td>\n",
              "      <td>128</td>\n",
              "      <td>48</td>\n",
              "      <td>48</td>\n",
              "      <td>-14</td>\n",
              "      <td>5</td>\n",
              "      <td>12</td>\n",
              "      <td>219</td>\n",
              "      <td>8</td>\n",
              "      <td>6</td>\n",
              "      <td>44</td>\n",
              "      <td>4</td>\n",
              "    </tr>\n",
              "    <tr>\n",
              "      <th>7</th>\n",
              "      <td>8</td>\n",
              "      <td>End Of The Road</td>\n",
              "      <td>Boyz II Men</td>\n",
              "      <td>1991</td>\n",
              "      <td>150</td>\n",
              "      <td>43</td>\n",
              "      <td>64</td>\n",
              "      <td>-9</td>\n",
              "      <td>6</td>\n",
              "      <td>53</td>\n",
              "      <td>351</td>\n",
              "      <td>7</td>\n",
              "      <td>2</td>\n",
              "      <td>71</td>\n",
              "      <td>24</td>\n",
              "    </tr>\n",
              "    <tr>\n",
              "      <th>8</th>\n",
              "      <td>9</td>\n",
              "      <td>Someone Elses Roses</td>\n",
              "      <td>Joan Regan</td>\n",
              "      <td>2019</td>\n",
              "      <td>100</td>\n",
              "      <td>14</td>\n",
              "      <td>29</td>\n",
              "      <td>-10</td>\n",
              "      <td>15</td>\n",
              "      <td>32</td>\n",
              "      <td>143</td>\n",
              "      <td>89</td>\n",
              "      <td>3</td>\n",
              "      <td>34</td>\n",
              "      <td>86</td>\n",
              "    </tr>\n",
              "    <tr>\n",
              "      <th>9</th>\n",
              "      <td>10</td>\n",
              "      <td>You Belong to My Heart</td>\n",
              "      <td>Timi Yuro</td>\n",
              "      <td>2013</td>\n",
              "      <td>108</td>\n",
              "      <td>39</td>\n",
              "      <td>46</td>\n",
              "      <td>-10</td>\n",
              "      <td>16</td>\n",
              "      <td>50</td>\n",
              "      <td>126</td>\n",
              "      <td>82</td>\n",
              "      <td>3</td>\n",
              "      <td>35</td>\n",
              "      <td>1</td>\n",
              "    </tr>\n",
              "  </tbody>\n",
              "</table>\n",
              "</div>\n",
              "      <button class=\"colab-df-convert\" onclick=\"convertToInteractive('df-c6beb603-6bc3-4477-b943-7e3b70e02118')\"\n",
              "              title=\"Convert this dataframe to an interactive table.\"\n",
              "              style=\"display:none;\">\n",
              "        \n",
              "  <svg xmlns=\"http://www.w3.org/2000/svg\" height=\"24px\"viewBox=\"0 0 24 24\"\n",
              "       width=\"24px\">\n",
              "    <path d=\"M0 0h24v24H0V0z\" fill=\"none\"/>\n",
              "    <path d=\"M18.56 5.44l.94 2.06.94-2.06 2.06-.94-2.06-.94-.94-2.06-.94 2.06-2.06.94zm-11 1L8.5 8.5l.94-2.06 2.06-.94-2.06-.94L8.5 2.5l-.94 2.06-2.06.94zm10 10l.94 2.06.94-2.06 2.06-.94-2.06-.94-.94-2.06-.94 2.06-2.06.94z\"/><path d=\"M17.41 7.96l-1.37-1.37c-.4-.4-.92-.59-1.43-.59-.52 0-1.04.2-1.43.59L10.3 9.45l-7.72 7.72c-.78.78-.78 2.05 0 2.83L4 21.41c.39.39.9.59 1.41.59.51 0 1.02-.2 1.41-.59l7.78-7.78 2.81-2.81c.8-.78.8-2.07 0-2.86zM5.41 20L4 18.59l7.72-7.72 1.47 1.35L5.41 20z\"/>\n",
              "  </svg>\n",
              "      </button>\n",
              "      \n",
              "  <style>\n",
              "    .colab-df-container {\n",
              "      display:flex;\n",
              "      flex-wrap:wrap;\n",
              "      gap: 12px;\n",
              "    }\n",
              "\n",
              "    .colab-df-convert {\n",
              "      background-color: #E8F0FE;\n",
              "      border: none;\n",
              "      border-radius: 50%;\n",
              "      cursor: pointer;\n",
              "      display: none;\n",
              "      fill: #1967D2;\n",
              "      height: 32px;\n",
              "      padding: 0 0 0 0;\n",
              "      width: 32px;\n",
              "    }\n",
              "\n",
              "    .colab-df-convert:hover {\n",
              "      background-color: #E2EBFA;\n",
              "      box-shadow: 0px 1px 2px rgba(60, 64, 67, 0.3), 0px 1px 3px 1px rgba(60, 64, 67, 0.15);\n",
              "      fill: #174EA6;\n",
              "    }\n",
              "\n",
              "    [theme=dark] .colab-df-convert {\n",
              "      background-color: #3B4455;\n",
              "      fill: #D2E3FC;\n",
              "    }\n",
              "\n",
              "    [theme=dark] .colab-df-convert:hover {\n",
              "      background-color: #434B5C;\n",
              "      box-shadow: 0px 1px 3px 1px rgba(0, 0, 0, 0.15);\n",
              "      filter: drop-shadow(0px 1px 2px rgba(0, 0, 0, 0.3));\n",
              "      fill: #FFFFFF;\n",
              "    }\n",
              "  </style>\n",
              "\n",
              "      <script>\n",
              "        const buttonEl =\n",
              "          document.querySelector('#df-c6beb603-6bc3-4477-b943-7e3b70e02118 button.colab-df-convert');\n",
              "        buttonEl.style.display =\n",
              "          google.colab.kernel.accessAllowed ? 'block' : 'none';\n",
              "\n",
              "        async function convertToInteractive(key) {\n",
              "          const element = document.querySelector('#df-c6beb603-6bc3-4477-b943-7e3b70e02118');\n",
              "          const dataTable =\n",
              "            await google.colab.kernel.invokeFunction('convertToInteractive',\n",
              "                                                     [key], {});\n",
              "          if (!dataTable) return;\n",
              "\n",
              "          const docLinkHtml = 'Like what you see? Visit the ' +\n",
              "            '<a target=\"_blank\" href=https://colab.research.google.com/notebooks/data_table.ipynb>data table notebook</a>'\n",
              "            + ' to learn more about interactive tables.';\n",
              "          element.innerHTML = '';\n",
              "          dataTable['output_type'] = 'display_data';\n",
              "          await google.colab.output.renderOutput(dataTable, element);\n",
              "          const docLink = document.createElement('div');\n",
              "          docLink.innerHTML = docLinkHtml;\n",
              "          element.appendChild(docLink);\n",
              "        }\n",
              "      </script>\n",
              "    </div>\n",
              "  </div>\n",
              "  "
            ],
            "text/plain": [
              "   Id                                        title  ... pop  top genre\n",
              "0   1                                 My Happiness  ...  44          1\n",
              "1   2                             Unchained Melody  ...  37         86\n",
              "2   3                        How Deep Is Your Love  ...  77          1\n",
              "3   4                                Woman in Love  ...  67          1\n",
              "4   5  Goodbye Yellow Brick Road - Remastered 2014  ...  63         68\n",
              "5   6                                      Grenade  ...  74         80\n",
              "6   7                                      No Time  ...  44          4\n",
              "7   8                              End Of The Road  ...  71         24\n",
              "8   9                          Someone Elses Roses  ...  34         86\n",
              "9  10                       You Belong to My Heart  ...  35          1\n",
              "\n",
              "[10 rows x 15 columns]"
            ]
          },
          "metadata": {},
          "execution_count": 69
        }
      ],
      "source": [
        "#Encode 'top genre' using label encoder\n",
        "from sklearn.preprocessing import LabelEncoder\n",
        "le = LabelEncoder()\n",
        "train_data['top genre'] = le.fit_transform(train_data['top genre'])\n",
        "train_data.head(10)"
      ]
    },
    {
      "cell_type": "markdown",
      "source": [
        "###Data Visualisation \n",
        ">Data visualisation is critical to understanding the dataset and detect any outliers, errors etc. This is done by creating a histogram plot, box plot and linear corelation matrix"
      ],
      "metadata": {
        "id": "5PMiRL5Nvpma"
      }
    },
    {
      "cell_type": "markdown",
      "source": [
        "####Histogram Plot\n",
        ">The histogram is helpful to understand the distribution of the data as they are grouped into bins. We can observe that the live and speech features are highly skewed to one region. We will perform normalisation later in this code."
      ],
      "metadata": {
        "id": "d6Wb-O3m6yCd"
      }
    },
    {
      "cell_type": "code",
      "source": [
        "#Frequency distribution of elements in the dataset\n",
        "import matplotlib.pyplot as plt\n",
        "train_data.hist(bins=25, figsize=(20,20))\n",
        "plt.show()"
      ],
      "metadata": {
        "id": "CWqKocEp-J1J",
        "colab": {
          "base_uri": "https://localhost:8080/",
          "height": 1000
        },
        "outputId": "977a86a7-3936-4102-8f7e-dc33bcb20fa7"
      },
      "execution_count": 70,
      "outputs": [
        {
          "output_type": "display_data",
          "data": {
            "image/png": "[encoded data removed]",
            "text/plain": [
              "<Figure size 1440x1440 with 16 Axes>"
            ]
          },
          "metadata": {
            "needs_background": "light"
          }
        }
      ]
    },
    {
      "cell_type": "markdown",
      "source": [
        "####Box Plot\n",
        ">The Boxplot is used to observe outliers and how the data is distributed based on minimum, maximum and quartile calculations. The Seaborn package is used for creating the box plot."
      ],
      "metadata": {
        "id": "Kzk70zKd7Deq"
      }
    },
    {
      "cell_type": "code",
      "execution_count": 71,
      "metadata": {
        "colab": {
          "base_uri": "https://localhost:8080/",
          "height": 561
        },
        "id": "7bdzioG3rr76",
        "outputId": "3ec3949a-99cb-420c-eb9c-4767950df881"
      },
      "outputs": [
        {
          "output_type": "display_data",
          "data": {
            "image/png": "[encoded data removed]",
            "text/plain": [
              "<Figure size 921.6x633.6 with 1 Axes>"
            ]
          },
          "metadata": {
            "needs_background": "light"
          }
        }
      ],
      "source": [
        "#Create a Box Plot of features in the dataset\n",
        "import seaborn as sns \n",
        "import matplotlib.style as style\n",
        "style.use('seaborn-poster')\n",
        "sns.boxplot(data=train_data.drop(['Id','title', 'year','artist', 'top genre'], axis=1))\n",
        "plt.xlabel('Features')\n",
        "plt.ylabel('Value')\n",
        "plt.show()\n"
      ]
    },
    {
      "cell_type": "markdown",
      "source": [
        ">>The distribution of features like speech and loudness seems to be very low. While the duration is the most widely distributed.\n"
      ],
      "metadata": {
        "id": "VBsHaEtTjcnn"
      }
    },
    {
      "cell_type": "markdown",
      "source": [
        "####Linear Correlation Matrix\n",
        ">The Linear Correlation Matrix is used to demonstrate a linear correlation between the dataset's features. We can observe the correlation between all the features. This is visualised using a heat map. The green blocks show a high correlation."
      ],
      "metadata": {
        "id": "UEJcjYzj7d5O"
      }
    },
    {
      "cell_type": "code",
      "execution_count": 72,
      "metadata": {
        "colab": {
          "base_uri": "https://localhost:8080/",
          "height": 688
        },
        "id": "nYzjoxLssmgP",
        "outputId": "10e0762a-99aa-40e9-911c-d34da02a24c3"
      },
      "outputs": [
        {
          "output_type": "display_data",
          "data": {
            "image/png": "[encoded data removed]",
            "text/plain": [
              "<Figure size 1080x720 with 2 Axes>"
            ]
          },
          "metadata": {
            "needs_background": "light"
          }
        }
      ],
      "source": [
        "#Create a linear Corelation Matrix of the features in the dataset\n",
        "plt.figure(figsize=(15,10))\n",
        "sns.heatmap(train_data.corr(), annot=True,cmap='RdYlGn')\n",
        "plt.title('Linear Correlation Matrix')\n",
        "plt.show()"
      ]
    },
    {
      "cell_type": "markdown",
      "source": [
        ">Some of the observations from the heatmap:\n",
        "\n",
        "\n",
        ">>* Loudness and energy are highly correlated, which means the louder the song, the higher the energy.\n",
        "*  Acoustics and energy seem to be highly inverse correlated, which means the higher the energy, the lower the acoustics.\n",
        "*  Year and liveness seem to have a very low correlation."
      ],
      "metadata": {
        "id": "lS8LDju27sRg"
      }
    },
    {
      "cell_type": "markdown",
      "source": [
        "###Outliers\n",
        ">Outliers are instances with abnormal differnce to other values of the same group. This is identified from the get_outlier_counts() function and then the number of outliers are calulated."
      ],
      "metadata": {
        "id": "BwC5Ose12EKq"
      }
    },
    {
      "cell_type": "code",
      "source": [
        "from scipy import stats\n",
        "import numpy as np\n",
        "def get_outlier_counts(df, threshold):\n",
        "    df = df.copy()\n",
        "    \n",
        "    # Get the z-score for specified threshold\n",
        "    threshold_z_score = stats.norm.ppf(threshold)\n",
        "    \n",
        "    # Get the z-scores for each value in df\n",
        "    z_score_df = pd.DataFrame(np.abs(stats.zscore(df)), columns=df.columns)\n",
        "    \n",
        "    # Compare df z_scores to the threshold and return the count of outliers in each column\n",
        "    return (z_score_df > threshold_z_score).sum(axis=0)\n",
        "\n"
      ],
      "metadata": {
        "id": "Tu46_9gw2F-M"
      },
      "execution_count": 73,
      "outputs": []
    },
    {
      "cell_type": "code",
      "source": [
        "\n",
        "get_outlier_counts(train_data.drop(columns=['title','artist','Id']), 0.9999999)"
      ],
      "metadata": {
        "colab": {
          "base_uri": "https://localhost:8080/"
        },
        "id": "C6zVLwpB3k1n",
        "outputId": "b0ce1a81-e308-497a-a6b4-7b576d3fff57"
      },
      "execution_count": 74,
      "outputs": [
        {
          "output_type": "execute_result",
          "data": {
            "text/plain": [
              "year         0\n",
              "bpm          0\n",
              "nrgy         0\n",
              "dnce         0\n",
              "dB           0\n",
              "live         1\n",
              "val          0\n",
              "dur          0\n",
              "acous        0\n",
              "spch         4\n",
              "pop          0\n",
              "top genre    0\n",
              "dtype: int64"
            ]
          },
          "metadata": {},
          "execution_count": 74
        }
      ]
    },
    {
      "cell_type": "markdown",
      "source": [
        ">>The dataset seems to have 1 'live' outlier and 4 'spch' outliers. Since there seems to be a relatively small number of outliers compared to the rest of the dataset, removing them may not produce a significant difference in accuracy score."
      ],
      "metadata": {
        "id": "haRxnjBM73XY"
      }
    },
    {
      "cell_type": "markdown",
      "metadata": {
        "id": "2euAqwtkfL1p"
      },
      "source": [
        "##Data Pre-processing"
      ]
    },
    {
      "cell_type": "markdown",
      "source": [
        "###Preparing the data\n",
        ">The data is then seperated to input features like beats per minute, energy, danceability, loudness, liveness, valence, duration, acustics, speechiness, popularity and targeted feature which here is top genre."
      ],
      "metadata": {
        "id": "8vAGAdsNv8Tb"
      }
    },
    {
      "cell_type": "code",
      "execution_count": 75,
      "metadata": {
        "id": "UMmnmUjWlkMi"
      },
      "outputs": [],
      "source": [
        "#Data Preprocessing\n",
        "from sklearn.model_selection import train_test_split\n",
        "from sklearn.preprocessing import StandardScaler\n",
        "from sklearn.metrics import accuracy_score\n",
        "\n",
        "#Prepare the Data\n",
        "X = train_data.drop(columns=['title','artist','top genre','Id'])\n",
        "Y = train_data['top genre']"
      ]
    },
    {
      "cell_type": "markdown",
      "source": [
        "###Scaling The features of dataset\n",
        ">The dataset is then scaled to normalise the data since they may vary widely. This is performed using Standard Scaler class."
      ],
      "metadata": {
        "id": "zv6CFqlbwCcN"
      }
    },
    {
      "cell_type": "code",
      "source": [
        "#Scale the Data using Standard Scalar Function\n",
        "scale = StandardScaler()\n",
        "scaled_X=scale.fit_transform(X)"
      ],
      "metadata": {
        "id": "AOi-ocHIvzLR"
      },
      "execution_count": 76,
      "outputs": []
    },
    {
      "cell_type": "markdown",
      "source": [
        "###Split & Train model function\n",
        ">The train_model() function here performs three things, test/train split, train the model, predict and return the accuracy score values of the predictions. The train set and test set separation are done 90/10 per cent, respectively. We tested our models with 80/20 and 70/30 split, but the 90/10 split consistently produced a better accuracy."
      ],
      "metadata": {
        "id": "WmxTf1ejw1SM"
      }
    },
    {
      "cell_type": "code",
      "source": [
        "#Define the function to train the models\n",
        "def train_model(model, x, y):\n",
        "  x_train, x_test, y_train, y_test = train_test_split(x, y,random_state=50, test_size=0.1)\n",
        "  model.fit(x_train,y_train)\n",
        "  #score = model.score(x_test,y_test)\n",
        "  #print(score)\n",
        "  prediction = model.predict(x_test)\n",
        "  print(\"Accuracy Score :\", accuracy_score(y_test,prediction)*100)"
      ],
      "metadata": {
        "id": "rSOQII3vwHDa"
      },
      "execution_count": 77,
      "outputs": []
    },
    {
      "cell_type": "markdown",
      "metadata": {
        "id": "trPm2LqTtI_j"
      },
      "source": [
        "##Select and train the model"
      ]
    },
    {
      "cell_type": "markdown",
      "source": [
        "###Logistic Regression\n",
        ">Logistic Regression is a statistical model which uses the logistic function to model a binary variable. This model is commonly used for binary classification and is the most basic of the classification models. The good thing about this model is that it's pretty easy to implement and is one of the most basic models out in the market. Also, it makes no assumptions in the distribution of classes in the feature space. Furthermore, it can also easily extend to a multi-class classifier when needed. Though the model is pretty good for prediction, it has its downsides. Sometimes, it may lead to overfitting, which is not optimal for the prediction. Also, through this model, it is tough to compute complex relationships.\n"
      ],
      "metadata": {
        "id": "tU1eI86KxVfZ"
      }
    },
    {
      "cell_type": "code",
      "execution_count": 78,
      "metadata": {
        "colab": {
          "base_uri": "https://localhost:8080/"
        },
        "id": "cUALABiGAdWB",
        "outputId": "64a29239-63ac-44fb-8ff4-b3325cb2a9be"
      },
      "outputs": [
        {
          "output_type": "stream",
          "name": "stdout",
          "text": [
            "Accuracy Score : 39.130434782608695\n"
          ]
        }
      ],
      "source": [
        "#Logistic Regresion\n",
        "from sklearn.linear_model import LogisticRegression\n",
        "from sklearn.multiclass import OneVsRestClassifier\n",
        "\n",
        "\n",
        "one_model = OneVsRestClassifier(LogisticRegression(max_iter=1000, random_state=10))\n",
        "train_model(one_model,scaled_X,Y)"
      ]
    },
    {
      "cell_type": "markdown",
      "source": [
        ">>Here, we have kept the maximum iteration to 1000 because we wanted to explore optimal predictions as much as possible. Also, we are setting the random state of the model so that our model sticks to one solution only. Also, we will be using OneVsRestClassifier because our problem is a multi-class problem and logistic regression only works on binary problems. We discarded this model because it is one of the basic models, and the accuracy score which is 39.13% is not as high as we expected it to be."
      ],
      "metadata": {
        "id": "Ab4fIzOg_uuA"
      }
    },
    {
      "cell_type": "markdown",
      "source": [
        "###Bagging Classifier\n",
        ">It is one ensemble learning model that fits its base classifiers on random subsets of the original database and then collects their prediction to form the final prediction. In this assignment, we used DecisioncTree Classifier as our estimator for our bagging classifier; therefore, the Decision Tree classifier will predict on random subsets, and the bagging classifier collects the predictions to form a final result. The model is usually stable against the noise. It has an excellent capacity to predict noisy data decently while maintaining its compositions. Though it works great with classifiers, it needs many comparable classifiers for predicting the data."
      ],
      "metadata": {
        "id": "Wf3CO30qx58P"
      }
    },
    {
      "cell_type": "code",
      "execution_count": 79,
      "metadata": {
        "colab": {
          "base_uri": "https://localhost:8080/"
        },
        "id": "yHUeXA8Ww8Ol",
        "outputId": "ba128a53-54f1-4769-dd9d-586a5f34be66"
      },
      "outputs": [
        {
          "output_type": "stream",
          "name": "stdout",
          "text": [
            "Accuracy Score : 39.130434782608695\n"
          ]
        }
      ],
      "source": [
        "#Bagging Classifier\n",
        "from sklearn.ensemble import BaggingClassifier\n",
        "from sklearn.tree import DecisionTreeClassifier\n",
        "\n",
        "bagg_model = BaggingClassifier(base_estimator=DecisionTreeClassifier(),\n",
        "                            n_estimators=100, # number of base estimators in ensemble\n",
        "                            max_samples=0.5,  # 50% of samples taken from existing instances\n",
        "                            max_features=1.0, # 100% of features are taken\n",
        "                            bootstrap_features=False, # it represent samples taken with feature replacement\n",
        "                            oob_score=True,\n",
        "                            random_state=10)\n",
        "\n",
        "#model = BaggingClassifier(DecisionTreeClassifier(random_state=0), n_estimators=100, bootstrap=False, random_state=0)\n",
        "train_model(bagg_model,scaled_X,Y)\n"
      ]
    },
    {
      "cell_type": "markdown",
      "source": [
        ">>Here, we performed hyperparameter tuning for n_estimators and max samples. The best accuracy score was produced when n_estimators was 100. This helps us achieve maximum predictions as possible. Also, max_samples were set to 0.5 as we want 50% of samples to be taken from existing instances. Max_features as 1.0 as 100% of features are required for our prediction and having bootstrap as false. Also, populating the value of random state so that we get the exact solution each time we run the model.\n",
        "\n",
        ">>Bagging classifier model was also out of our list as it was not able to accuracy score (39.13%) as decent as we would expect it to be."
      ],
      "metadata": {
        "id": "H7GH7uiaAOU-"
      }
    },
    {
      "cell_type": "markdown",
      "source": [
        "###Hard Voting\n",
        ">Hard Voting is one of the ensemble learning models. Various individual models/classifiers are voted as per their performance, and then the highly voted model is chosen as the final model prediction. Here, in our assignment, we took RandomForest, Support Vector and Bagging Classifier as our estimators from which we will generate the best prediction out of the three classifiers. It is flexible in the selection of classifiers while predicting the data. Moreover, the model gives results based on other models predictions and thus, using different models in the same flow could lead us to more minor errors in prediction. But sometimes, this model can lead to overfitting the data and thus produce poor predictions."
      ],
      "metadata": {
        "id": "IC6caPSg7MuL"
      }
    },
    {
      "cell_type": "code",
      "execution_count": 80,
      "metadata": {
        "colab": {
          "base_uri": "https://localhost:8080/"
        },
        "id": "Fu07IGkPAj_3",
        "outputId": "c3ca8aaa-b6a3-47bc-d8fa-9e78e5c4d9b3"
      },
      "outputs": [
        {
          "output_type": "stream",
          "name": "stdout",
          "text": [
            "Accuracy Score : 43.47826086956522\n"
          ]
        }
      ],
      "source": [
        "#Hard Voting\n",
        "from sklearn.ensemble import RandomForestClassifier\n",
        "from sklearn.ensemble import VotingClassifier\n",
        "from sklearn.linear_model import LogisticRegression\n",
        "from sklearn.svm import SVC\n",
        "\n",
        "estimatorsList = [\n",
        "                  ('rf', RandomForestClassifier(n_estimators=30, random_state=10)),\n",
        "                  ('svc',SVC()),\n",
        "                  ('bg',BaggingClassifier(base_estimator=DecisionTreeClassifier(),\n",
        "                            n_estimators=100, # number of base estimators in ensemble\n",
        "                            max_samples=0.5,  # 50% of samples taken from existing instances\n",
        "                            max_features=1.0, # 100% of features are taken\n",
        "                            bootstrap_features=False, # it represent samples taken with feature replacement\n",
        "                            random_state=10))\n",
        "                  ]\n",
        "\n",
        "voting_model = VotingClassifier(estimators=estimatorsList,voting='hard')\n",
        "train_model(voting_model,scaled_X, Y)\n"
      ]
    },
    {
      "cell_type": "markdown",
      "source": [
        ">>After training the model, we obtained the final accuracy score of 43.48%. Which are better than previous models, but the random forest classifier and the support vector classifier perform better. In contrast, the bagging classifier consistently performs subpar, leading to an inefficient model. "
      ],
      "metadata": {
        "id": "iHwWeYUuAkTJ"
      }
    },
    {
      "cell_type": "markdown",
      "source": [
        "###Adaboost Classifier\n",
        ">Adaboost classifier is one of the ensemble learning models in which it focuses on attention to the subsequent classifier to improve its errors. Here, we considered Decision Tree Classifier as our Adaboost base estimator and corrected its error in subsequent runs and gave the best result out of it. The model corrects the predicted errors of the predecessor, thus leading to a higher level of prediction with minimum chances of error in the data. But sometimes, the model could be overfitting the data or misclassifying them."
      ],
      "metadata": {
        "id": "wPLQBgtF7QaE"
      }
    },
    {
      "cell_type": "code",
      "execution_count": 81,
      "metadata": {
        "colab": {
          "base_uri": "https://localhost:8080/"
        },
        "id": "xpy8uh9dFR-F",
        "outputId": "8ff98c5a-f2f4-4bff-82a3-7300ca5a2655"
      },
      "outputs": [
        {
          "output_type": "stream",
          "name": "stdout",
          "text": [
            "Accuracy Score : 41.30434782608695\n"
          ]
        }
      ],
      "source": [
        "#AdaBoost Classifer\n",
        "from sklearn.ensemble import AdaBoostClassifier\n",
        "from sklearn.tree import DecisionTreeClassifier\n",
        "from sklearn.svm import SVC\n",
        "\n",
        "ada_model = AdaBoostClassifier(DecisionTreeClassifier(max_depth=3), n_estimators=500, algorithm=\"SAMME.R\", learning_rate=0.1)\n",
        "train_model(ada_model,scaled_X, Y)"
      ]
    },
    {
      "cell_type": "markdown",
      "source": [
        ">>After performing hyperparameter tuning, we found n_estimators as 500 to be producing the best accuracy score. This is the optimal value because the performance reduces when the n_estimator value is high. Also, we have used Samme Algorithm for this model for our prediction and learning rate as 0.1.\n",
        "\n",
        ">>Adaboost performed pretty decent compared to other models in our list with an accuracy score of 41.304% but wasn't the best model to lend us the best accuracy because of possible underfitting of the data."
      ],
      "metadata": {
        "id": "8xGsicK4A5Aq"
      }
    },
    {
      "cell_type": "markdown",
      "source": [
        "###Our Final Model"
      ],
      "metadata": {
        "id": "GwEKB-O-ysLy"
      }
    },
    {
      "cell_type": "markdown",
      "source": [
        "**RandomForest Classifier :-**\n",
        "\n",
        ">It is the ensemble of Decision tree classifiers that are trained via bagging. It is an effective technique and is used widely for classification problems. The model works based on the feature importance approach, and the features which are highly correlated with the target will have a higher portion of weight in predicting the data. It also reduces the overfitting of the data, thus leading to a higher quality prediction with minimum error chances. Moreover, it is one of the most potent models used for data analytics. Since the model does an excellent job for classification but not for regression, it may not be flexible to various applications.\n"
      ],
      "metadata": {
        "id": "5OOtRKD-Z_b5"
      }
    },
    {
      "cell_type": "code",
      "source": [
        "#Random Forest Classifier\n",
        "from sklearn.ensemble import RandomForestClassifier\n",
        "rf_model = RandomForestClassifier(n_estimators=500, max_depth=5, max_leaf_nodes=16, n_jobs=-1)\n",
        "\n",
        "train_model(rf_model,scaled_X,Y)\n",
        "\n",
        "#Feature Importance\n",
        "feature_importances = rf_model.feature_importances_\n",
        "print(\"Feature importances:\\n{}\".format(feature_importances))"
      ],
      "metadata": {
        "colab": {
          "base_uri": "https://localhost:8080/"
        },
        "id": "XzgBGKZfyheG",
        "outputId": "f90d24b6-2b72-4262-8e10-32b636bc8db3"
      },
      "execution_count": 82,
      "outputs": [
        {
          "output_type": "stream",
          "name": "stdout",
          "text": [
            "Accuracy Score : 47.82608695652174\n",
            "Feature importances:\n",
            "[0.18069722 0.06206212 0.11441432 0.07889825 0.06033395 0.04232445\n",
            " 0.04795374 0.1412093  0.10277457 0.0400741  0.12925798]\n"
          ]
        }
      ]
    },
    {
      "cell_type": "markdown",
      "source": [
        ">> We immediately got a better accuracy score than the previous models when we trained the model. Our mean prediction score was 45.56%. We performed hyperparameter tuning on n_estimators and max depth parameters to improve our model. We finally landed with n_estimators=500 and max_depth=5 producing the highest accuracy. As we can see, our RandomForest classifier performs the best among all the models present in this assignment, with a mean accuracy score of 47.82%. We also utilised the feature importance function that random forest contains to see which features influence our target. In this dataset, beats per minute, duration and speech have the most substantial influence on our target. We could use the most critical features to train our model to obtain better accuracy on a larger dataset.\n",
        "\n",
        ">>We picked Random Forest Classifier as our model because it is powerful and performs well when the dataset is small. Since the splitting is randomised, the subset of features while looking for the best feature produces predictions with higher bias but lower variance leading to a better model. After training our data with this model, we reached a new high in our accuracy score of around 47%, which was pretty good compared to all the previous models we trained. Therefore, we chose the Random Forest Classifier as our final model, and we found this model to predict our data better. It does not produce a better accuracy because the dataset is relatively small and contains just a few instances for many 'top genre' labels. \n",
        "\n",
        ">> Our model performs better when training with an accuracy score of 0.478, but when we uploaded our predictions to Kaggle, our score was 0.32, which is lower than our score obtained while training. This is possibly due to the overfitting of the training data. Our model does not produce the best solution, but we can significantly improve it by further optimising our model. \n"
      ],
      "metadata": {
        "id": "wCjTyWnsyyRe"
      }
    },
    {
      "cell_type": "markdown",
      "source": [
        "## Conclusion\n",
        ">We can further improve our model by using highly correlated features with our target (top genre). This can be done when the dataset is more extensive and the instances in the genre are distributed evenly. We can perform more data analysis and cleaning to get a better accuracy score. Another suggestion is to use the Extra Trees Classifier to select the subset of features based on a random threshold rather than looking for the best feature. The Extra Trees model can be much faster than our current model. In the end, We learned to perform end to end machine learning, and in future, we would like to explore neural networks as a possible solution to accomplish this classification task.  "
      ],
      "metadata": {
        "id": "SlkRD4BVrbTk"
      }
    },
    {
      "cell_type": "markdown",
      "source": [
        "##Appendix: Loading the dataset to test file"
      ],
      "metadata": {
        "id": "j7-3oFuvzMu3"
      }
    },
    {
      "cell_type": "code",
      "source": [
        "# Load the test file\n",
        "test = pd.read_csv(\"CS98XClassificationTest.csv\")\n",
        "test_copy = test.copy() # Create copy file to retain the original dataset\n",
        "test_copy.drop(['title','artist','Id'], axis=1, inplace=True)\n",
        "test_scaled = scale.fit_transform(test_copy) # fit the test_copy\n",
        "prediction=le.inverse_transform(rf_model.predict(test_scaled))\n",
        "test['top genre'] = prediction\n",
        "#Note: CS98XClassificationTest.csv has to be added for each test run\n",
        "test.to_csv(\"CS98XClassificationTest.csv\") # load the final predicted pop into original test dataset\n",
        "test.head(5)"
      ],
      "metadata": {
        "colab": {
          "base_uri": "https://localhost:8080/",
          "height": 350
        },
        "id": "G16_TZf3ctD0",
        "outputId": "2a0596be-d389-4477-b7dc-4fcd11d22c05"
      },
      "execution_count": 83,
      "outputs": [
        {
          "output_type": "execute_result",
          "data": {
            "text/html": [
              "\n",
              "  <div id=\"df-5a99dba1-efd2-4c33-9204-e2753aeee076\">\n",
              "    <div class=\"colab-df-container\">\n",
              "      <div>\n",
              "<style scoped>\n",
              "    .dataframe tbody tr th:only-of-type {\n",
              "        vertical-align: middle;\n",
              "    }\n",
              "\n",
              "    .dataframe tbody tr th {\n",
              "        vertical-align: top;\n",
              "    }\n",
              "\n",
              "    .dataframe thead th {\n",
              "        text-align: right;\n",
              "    }\n",
              "</style>\n",
              "<table border=\"1\" class=\"dataframe\">\n",
              "  <thead>\n",
              "    <tr style=\"text-align: right;\">\n",
              "      <th></th>\n",
              "      <th>Id</th>\n",
              "      <th>title</th>\n",
              "      <th>artist</th>\n",
              "      <th>year</th>\n",
              "      <th>bpm</th>\n",
              "      <th>nrgy</th>\n",
              "      <th>dnce</th>\n",
              "      <th>dB</th>\n",
              "      <th>live</th>\n",
              "      <th>val</th>\n",
              "      <th>dur</th>\n",
              "      <th>acous</th>\n",
              "      <th>spch</th>\n",
              "      <th>pop</th>\n",
              "      <th>top genre</th>\n",
              "    </tr>\n",
              "  </thead>\n",
              "  <tbody>\n",
              "    <tr>\n",
              "      <th>0</th>\n",
              "      <td>454</td>\n",
              "      <td>Pump It</td>\n",
              "      <td>The Black Eyed Peas</td>\n",
              "      <td>2005</td>\n",
              "      <td>154</td>\n",
              "      <td>93</td>\n",
              "      <td>65</td>\n",
              "      <td>-3</td>\n",
              "      <td>75</td>\n",
              "      <td>74</td>\n",
              "      <td>213</td>\n",
              "      <td>1</td>\n",
              "      <td>18</td>\n",
              "      <td>72</td>\n",
              "      <td>dance pop</td>\n",
              "    </tr>\n",
              "    <tr>\n",
              "      <th>1</th>\n",
              "      <td>455</td>\n",
              "      <td>Circle of Life - From \"The Lion King\"/Soundtra...</td>\n",
              "      <td>Elton John</td>\n",
              "      <td>1994</td>\n",
              "      <td>161</td>\n",
              "      <td>39</td>\n",
              "      <td>30</td>\n",
              "      <td>-15</td>\n",
              "      <td>11</td>\n",
              "      <td>14</td>\n",
              "      <td>292</td>\n",
              "      <td>26</td>\n",
              "      <td>3</td>\n",
              "      <td>59</td>\n",
              "      <td>adult standards</td>\n",
              "    </tr>\n",
              "    <tr>\n",
              "      <th>2</th>\n",
              "      <td>456</td>\n",
              "      <td>We Are The Champions - Remastered 2011</td>\n",
              "      <td>Queen</td>\n",
              "      <td>1977</td>\n",
              "      <td>64</td>\n",
              "      <td>46</td>\n",
              "      <td>27</td>\n",
              "      <td>-7</td>\n",
              "      <td>12</td>\n",
              "      <td>18</td>\n",
              "      <td>179</td>\n",
              "      <td>38</td>\n",
              "      <td>3</td>\n",
              "      <td>76</td>\n",
              "      <td>adult standards</td>\n",
              "    </tr>\n",
              "    <tr>\n",
              "      <th>3</th>\n",
              "      <td>457</td>\n",
              "      <td>Insomnia - Radio Edit</td>\n",
              "      <td>Faithless</td>\n",
              "      <td>2010</td>\n",
              "      <td>127</td>\n",
              "      <td>92</td>\n",
              "      <td>71</td>\n",
              "      <td>-9</td>\n",
              "      <td>37</td>\n",
              "      <td>53</td>\n",
              "      <td>216</td>\n",
              "      <td>6</td>\n",
              "      <td>4</td>\n",
              "      <td>50</td>\n",
              "      <td>dance pop</td>\n",
              "    </tr>\n",
              "    <tr>\n",
              "      <th>4</th>\n",
              "      <td>458</td>\n",
              "      <td>This Eve of Parting</td>\n",
              "      <td>John Hartford</td>\n",
              "      <td>2018</td>\n",
              "      <td>115</td>\n",
              "      <td>46</td>\n",
              "      <td>56</td>\n",
              "      <td>-12</td>\n",
              "      <td>21</td>\n",
              "      <td>34</td>\n",
              "      <td>153</td>\n",
              "      <td>18</td>\n",
              "      <td>3</td>\n",
              "      <td>44</td>\n",
              "      <td>adult standards</td>\n",
              "    </tr>\n",
              "  </tbody>\n",
              "</table>\n",
              "</div>\n",
              "      <button class=\"colab-df-convert\" onclick=\"convertToInteractive('df-5a99dba1-efd2-4c33-9204-e2753aeee076')\"\n",
              "              title=\"Convert this dataframe to an interactive table.\"\n",
              "              style=\"display:none;\">\n",
              "        \n",
              "  <svg xmlns=\"http://www.w3.org/2000/svg\" height=\"24px\"viewBox=\"0 0 24 24\"\n",
              "       width=\"24px\">\n",
              "    <path d=\"M0 0h24v24H0V0z\" fill=\"none\"/>\n",
              "    <path d=\"M18.56 5.44l.94 2.06.94-2.06 2.06-.94-2.06-.94-.94-2.06-.94 2.06-2.06.94zm-11 1L8.5 8.5l.94-2.06 2.06-.94-2.06-.94L8.5 2.5l-.94 2.06-2.06.94zm10 10l.94 2.06.94-2.06 2.06-.94-2.06-.94-.94-2.06-.94 2.06-2.06.94z\"/><path d=\"M17.41 7.96l-1.37-1.37c-.4-.4-.92-.59-1.43-.59-.52 0-1.04.2-1.43.59L10.3 9.45l-7.72 7.72c-.78.78-.78 2.05 0 2.83L4 21.41c.39.39.9.59 1.41.59.51 0 1.02-.2 1.41-.59l7.78-7.78 2.81-2.81c.8-.78.8-2.07 0-2.86zM5.41 20L4 18.59l7.72-7.72 1.47 1.35L5.41 20z\"/>\n",
              "  </svg>\n",
              "      </button>\n",
              "      \n",
              "  <style>\n",
              "    .colab-df-container {\n",
              "      display:flex;\n",
              "      flex-wrap:wrap;\n",
              "      gap: 12px;\n",
              "    }\n",
              "\n",
              "    .colab-df-convert {\n",
              "      background-color: #E8F0FE;\n",
              "      border: none;\n",
              "      border-radius: 50%;\n",
              "      cursor: pointer;\n",
              "      display: none;\n",
              "      fill: #1967D2;\n",
              "      height: 32px;\n",
              "      padding: 0 0 0 0;\n",
              "      width: 32px;\n",
              "    }\n",
              "\n",
              "    .colab-df-convert:hover {\n",
              "      background-color: #E2EBFA;\n",
              "      box-shadow: 0px 1px 2px rgba(60, 64, 67, 0.3), 0px 1px 3px 1px rgba(60, 64, 67, 0.15);\n",
              "      fill: #174EA6;\n",
              "    }\n",
              "\n",
              "    [theme=dark] .colab-df-convert {\n",
              "      background-color: #3B4455;\n",
              "      fill: #D2E3FC;\n",
              "    }\n",
              "\n",
              "    [theme=dark] .colab-df-convert:hover {\n",
              "      background-color: #434B5C;\n",
              "      box-shadow: 0px 1px 3px 1px rgba(0, 0, 0, 0.15);\n",
              "      filter: drop-shadow(0px 1px 2px rgba(0, 0, 0, 0.3));\n",
              "      fill: #FFFFFF;\n",
              "    }\n",
              "  </style>\n",
              "\n",
              "      <script>\n",
              "        const buttonEl =\n",
              "          document.querySelector('#df-5a99dba1-efd2-4c33-9204-e2753aeee076 button.colab-df-convert');\n",
              "        buttonEl.style.display =\n",
              "          google.colab.kernel.accessAllowed ? 'block' : 'none';\n",
              "\n",
              "        async function convertToInteractive(key) {\n",
              "          const element = document.querySelector('#df-5a99dba1-efd2-4c33-9204-e2753aeee076');\n",
              "          const dataTable =\n",
              "            await google.colab.kernel.invokeFunction('convertToInteractive',\n",
              "                                                     [key], {});\n",
              "          if (!dataTable) return;\n",
              "\n",
              "          const docLinkHtml = 'Like what you see? Visit the ' +\n",
              "            '<a target=\"_blank\" href=https://colab.research.google.com/notebooks/data_table.ipynb>data table notebook</a>'\n",
              "            + ' to learn more about interactive tables.';\n",
              "          element.innerHTML = '';\n",
              "          dataTable['output_type'] = 'display_data';\n",
              "          await google.colab.output.renderOutput(dataTable, element);\n",
              "          const docLink = document.createElement('div');\n",
              "          docLink.innerHTML = docLinkHtml;\n",
              "          element.appendChild(docLink);\n",
              "        }\n",
              "      </script>\n",
              "    </div>\n",
              "  </div>\n",
              "  "
            ],
            "text/plain": [
              "    Id                                              title  ... pop        top genre\n",
              "0  454                                            Pump It  ...  72        dance pop\n",
              "1  455  Circle of Life - From \"The Lion King\"/Soundtra...  ...  59  adult standards\n",
              "2  456             We Are The Champions - Remastered 2011  ...  76  adult standards\n",
              "3  457                              Insomnia - Radio Edit  ...  50        dance pop\n",
              "4  458                                This Eve of Parting  ...  44  adult standards\n",
              "\n",
              "[5 rows x 15 columns]"
            ]
          },
          "metadata": {},
          "execution_count": 83
        }
      ]
    }
  ],
  "metadata": {
    "colab": {
      "name": "SpotifyClassificationFinal.ipynb",
      "provenance": [],
      "collapsed_sections": []
    },
    "kernelspec": {
      "display_name": "Python 3",
      "name": "python3"
    },
    "language_info": {
      "name": "python"
    }
  },
  "nbformat": 4,
  "nbformat_minor": 0
}
