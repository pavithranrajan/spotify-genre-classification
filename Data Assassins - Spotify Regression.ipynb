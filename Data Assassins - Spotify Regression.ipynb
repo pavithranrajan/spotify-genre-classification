{
  "nbformat": 4,
  "nbformat_minor": 0,
  "metadata": {
    "colab": {
      "name": "SpotifyRegressionFinal.ipynb",
      "provenance": [],
      "collapsed_sections": []
    },
    "kernelspec": {
      "name": "python3",
      "display_name": "Python 3"
    },
    "language_info": {
      "name": "python"
    }
  },
  "cells": [
    {
      "cell_type": "markdown",
      "source": [
        "# **Data Assassins** \n",
        "---\n",
        "###**Spotify Regression Problem**\n",
        "\n",
        "---\n",
        "\n",
        "\n",
       

        "\n",
        "##**Summary**\n",
        "\n",
        ">As streaming songs get ever-popular, music streaming service providers like Spotify and Apple Music deal with more enormous music data every day. This is where machine learning and deep learning come to play. Machine learning algorithms are already applied to produce recommended playlists based on listening preferences, and this is just the beginning of all that’s possible with artificial intelligence. Using the Spotify dataset, this assignment requires us to build a machine learning model to predict a song’s popularity. Our first task was to load the dataset and explore its many quirks through data analyses and visualisations. We performed data exploration and data cleaning in our data analysis section of this notebook. Then we tested out several models to observe and understand how they work and improve them. Then we settled on our final model, a stacking regressor, which provides us with the lowest RMSE values. The RMSE value offered by our model is 8.38, and the predictions made on Kaggle produced the RMSE of 9.22. we provide several suggestions in the end to improve our model.\n"
      ],
      "metadata": {
        "id": "lkoA7-REx_90"
      }
    },
    {
      "cell_type": "markdown",
      "source": [
        "#Spotify Regression Project"
      ],
      "metadata": {
        "id": "pLIAZ2Ka941t"
      }
    },
    {
      "cell_type": "markdown",
      "source": [
        ">Importing all the required packages like sklearn, pandas, matlab plot and numpy. "
      ],
      "metadata": {
        "id": "XVrh0x9zoqxy"
      }
    },
    {
      "cell_type": "code",
      "execution_count": 64,
      "metadata": {
        "id": "E0Am73HIBPo6"
      },
      "outputs": [],
      "source": [
        "# Import all needed packages\n",
        "import sklearn\n",
        "import pandas as pd\n",
        "import matplotlib.pyplot as plt\n",
        "import numpy as np"
      ]
    },
    {
      "cell_type": "markdown",
      "source": [
        "##Dataset Analysis\n",
        "\n",
        ">The Spotify dataset provided to train the model contains 453 songs on the song title, artist, top genre, the year it was released, beats per minute, energy, danceability, loudness, liveness, valence, duration, acoustics, speech and popularity."
      ],
      "metadata": {
        "id": "DRV9N1VeVW4T"
      }
    },
    {
      "cell_type": "markdown",
      "source": [
        "###Getting the data\n",
        "\n",
        ">Load the dataset to the program using pandas data frame and count the number of rows in the dataset. This provided us with how many songs are contained within this dataset which is 453."
      ],
      "metadata": {
        "id": "1nX3kXxi8_Vf"
      }
    },
    {
      "cell_type": "code",
      "source": [
        "# load the data and count the number of instances\n",
        "data = pd.read_csv('CS98XRegressionTrain.csv')\n",
        "data.count()"
      ],
      "metadata": {
        "colab": {
          "base_uri": "https://localhost:8080/"
        },
        "id": "t1UMcJFVDPEb",
        "outputId": "4c5d0389-cc6c-40e0-f8c7-9280b7bf816e"
      },
      "execution_count": 65,
      "outputs": [
        {
          "output_type": "execute_result",
          "data": {
            "text/plain": [
              "Id           453\n",
              "title        453\n",
              "artist       453\n",
              "top genre    438\n",
              "year         453\n",
              "bpm          453\n",
              "nrgy         453\n",
              "dnce         453\n",
              "dB           453\n",
              "live         453\n",
              "val          453\n",
              "dur          453\n",
              "acous        453\n",
              "spch         453\n",
              "pop          453\n",
              "dtype: int64"
            ]
          },
          "metadata": {},
          "execution_count": 65
        }
      ]
    },
    {
      "cell_type": "markdown",
      "source": [
        ">We can use head() function to see some of the rows and understand the dataset"
      ],
      "metadata": {
        "id": "ZWH6I3Dw7bpp"
      }
    },
    {
      "cell_type": "code",
      "source": [
        "#shows the first 5 data to get an idea of the dataset\n",
        "data.head()"
      ],
      "metadata": {
        "colab": {
          "base_uri": "https://localhost:8080/",
          "height": 333
        },
        "id": "W_zh4yeTEqy0",
        "outputId": "01f3d37f-4fe7-49dc-cb76-904b3ad6ba3d"
      },
      "execution_count": 66,
      "outputs": [
        {
          "output_type": "execute_result",
          "data": {
            "text/html": [
              "\n",
              "  <div id=\"df-4267f4ec-3805-447b-ac50-dd326856c1da\">\n",
              "    <div class=\"colab-df-container\">\n",
              "      <div>\n",
              "<style scoped>\n",
              "    .dataframe tbody tr th:only-of-type {\n",
              "        vertical-align: middle;\n",
              "    }\n",
              "\n",
              "    .dataframe tbody tr th {\n",
              "        vertical-align: top;\n",
              "    }\n",
              "\n",
              "    .dataframe thead th {\n",
              "        text-align: right;\n",
              "    }\n",
              "</style>\n",
              "<table border=\"1\" class=\"dataframe\">\n",
              "  <thead>\n",
              "    <tr style=\"text-align: right;\">\n",
              "      <th></th>\n",
              "      <th>Id</th>\n",
              "      <th>title</th>\n",
              "      <th>artist</th>\n",
              "      <th>top genre</th>\n",
              "      <th>year</th>\n",
              "      <th>bpm</th>\n",
              "      <th>nrgy</th>\n",
              "      <th>dnce</th>\n",
              "      <th>dB</th>\n",
              "      <th>live</th>\n",
              "      <th>val</th>\n",
              "      <th>dur</th>\n",
              "      <th>acous</th>\n",
              "      <th>spch</th>\n",
              "      <th>pop</th>\n",
              "    </tr>\n",
              "  </thead>\n",
              "  <tbody>\n",
              "    <tr>\n",
              "      <th>0</th>\n",
              "      <td>1</td>\n",
              "      <td>My Happiness</td>\n",
              "      <td>Connie Francis</td>\n",
              "      <td>adult standards</td>\n",
              "      <td>1996</td>\n",
              "      <td>107</td>\n",
              "      <td>31</td>\n",
              "      <td>45</td>\n",
              "      <td>-8</td>\n",
              "      <td>13</td>\n",
              "      <td>28</td>\n",
              "      <td>150</td>\n",
              "      <td>75</td>\n",
              "      <td>3</td>\n",
              "      <td>44</td>\n",
              "    </tr>\n",
              "    <tr>\n",
              "      <th>1</th>\n",
              "      <td>2</td>\n",
              "      <td>Unchained Melody</td>\n",
              "      <td>The Teddy Bears</td>\n",
              "      <td>NaN</td>\n",
              "      <td>2011</td>\n",
              "      <td>114</td>\n",
              "      <td>44</td>\n",
              "      <td>53</td>\n",
              "      <td>-8</td>\n",
              "      <td>13</td>\n",
              "      <td>47</td>\n",
              "      <td>139</td>\n",
              "      <td>49</td>\n",
              "      <td>3</td>\n",
              "      <td>37</td>\n",
              "    </tr>\n",
              "    <tr>\n",
              "      <th>2</th>\n",
              "      <td>3</td>\n",
              "      <td>How Deep Is Your Love</td>\n",
              "      <td>Bee Gees</td>\n",
              "      <td>adult standards</td>\n",
              "      <td>1979</td>\n",
              "      <td>105</td>\n",
              "      <td>36</td>\n",
              "      <td>63</td>\n",
              "      <td>-9</td>\n",
              "      <td>13</td>\n",
              "      <td>67</td>\n",
              "      <td>245</td>\n",
              "      <td>11</td>\n",
              "      <td>3</td>\n",
              "      <td>77</td>\n",
              "    </tr>\n",
              "    <tr>\n",
              "      <th>3</th>\n",
              "      <td>4</td>\n",
              "      <td>Woman in Love</td>\n",
              "      <td>Barbra Streisand</td>\n",
              "      <td>adult standards</td>\n",
              "      <td>1980</td>\n",
              "      <td>170</td>\n",
              "      <td>28</td>\n",
              "      <td>47</td>\n",
              "      <td>-16</td>\n",
              "      <td>13</td>\n",
              "      <td>33</td>\n",
              "      <td>232</td>\n",
              "      <td>25</td>\n",
              "      <td>3</td>\n",
              "      <td>67</td>\n",
              "    </tr>\n",
              "    <tr>\n",
              "      <th>4</th>\n",
              "      <td>5</td>\n",
              "      <td>Goodbye Yellow Brick Road - Remastered 2014</td>\n",
              "      <td>Elton John</td>\n",
              "      <td>glam rock</td>\n",
              "      <td>1973</td>\n",
              "      <td>121</td>\n",
              "      <td>47</td>\n",
              "      <td>56</td>\n",
              "      <td>-8</td>\n",
              "      <td>15</td>\n",
              "      <td>40</td>\n",
              "      <td>193</td>\n",
              "      <td>45</td>\n",
              "      <td>3</td>\n",
              "      <td>63</td>\n",
              "    </tr>\n",
              "  </tbody>\n",
              "</table>\n",
              "</div>\n",
              "      <button class=\"colab-df-convert\" onclick=\"convertToInteractive('df-4267f4ec-3805-447b-ac50-dd326856c1da')\"\n",
              "              title=\"Convert this dataframe to an interactive table.\"\n",
              "              style=\"display:none;\">\n",
              "        \n",
              "  <svg xmlns=\"http://www.w3.org/2000/svg\" height=\"24px\"viewBox=\"0 0 24 24\"\n",
              "       width=\"24px\">\n",
              "    <path d=\"M0 0h24v24H0V0z\" fill=\"none\"/>\n",
              "    <path d=\"M18.56 5.44l.94 2.06.94-2.06 2.06-.94-2.06-.94-.94-2.06-.94 2.06-2.06.94zm-11 1L8.5 8.5l.94-2.06 2.06-.94-2.06-.94L8.5 2.5l-.94 2.06-2.06.94zm10 10l.94 2.06.94-2.06 2.06-.94-2.06-.94-.94-2.06-.94 2.06-2.06.94z\"/><path d=\"M17.41 7.96l-1.37-1.37c-.4-.4-.92-.59-1.43-.59-.52 0-1.04.2-1.43.59L10.3 9.45l-7.72 7.72c-.78.78-.78 2.05 0 2.83L4 21.41c.39.39.9.59 1.41.59.51 0 1.02-.2 1.41-.59l7.78-7.78 2.81-2.81c.8-.78.8-2.07 0-2.86zM5.41 20L4 18.59l7.72-7.72 1.47 1.35L5.41 20z\"/>\n",
              "  </svg>\n",
              "      </button>\n",
              "      \n",
              "  <style>\n",
              "    .colab-df-container {\n",
              "      display:flex;\n",
              "      flex-wrap:wrap;\n",
              "      gap: 12px;\n",
              "    }\n",
              "\n",
              "    .colab-df-convert {\n",
              "      background-color: #E8F0FE;\n",
              "      border: none;\n",
              "      border-radius: 50%;\n",
              "      cursor: pointer;\n",
              "      display: none;\n",
              "      fill: #1967D2;\n",
              "      height: 32px;\n",
              "      padding: 0 0 0 0;\n",
              "      width: 32px;\n",
              "    }\n",
              "\n",
              "    .colab-df-convert:hover {\n",
              "      background-color: #E2EBFA;\n",
              "      box-shadow: 0px 1px 2px rgba(60, 64, 67, 0.3), 0px 1px 3px 1px rgba(60, 64, 67, 0.15);\n",
              "      fill: #174EA6;\n",
              "    }\n",
              "\n",
              "    [theme=dark] .colab-df-convert {\n",
              "      background-color: #3B4455;\n",
              "      fill: #D2E3FC;\n",
              "    }\n",
              "\n",
              "    [theme=dark] .colab-df-convert:hover {\n",
              "      background-color: #434B5C;\n",
              "      box-shadow: 0px 1px 3px 1px rgba(0, 0, 0, 0.15);\n",
              "      filter: drop-shadow(0px 1px 2px rgba(0, 0, 0, 0.3));\n",
              "      fill: #FFFFFF;\n",
              "    }\n",
              "  </style>\n",
              "\n",
              "      <script>\n",
              "        const buttonEl =\n",
              "          document.querySelector('#df-4267f4ec-3805-447b-ac50-dd326856c1da button.colab-df-convert');\n",
              "        buttonEl.style.display =\n",
              "          google.colab.kernel.accessAllowed ? 'block' : 'none';\n",
              "\n",
              "        async function convertToInteractive(key) {\n",
              "          const element = document.querySelector('#df-4267f4ec-3805-447b-ac50-dd326856c1da');\n",
              "          const dataTable =\n",
              "            await google.colab.kernel.invokeFunction('convertToInteractive',\n",
              "                                                     [key], {});\n",
              "          if (!dataTable) return;\n",
              "\n",
              "          const docLinkHtml = 'Like what you see? Visit the ' +\n",
              "            '<a target=\"_blank\" href=https://colab.research.google.com/notebooks/data_table.ipynb>data table notebook</a>'\n",
              "            + ' to learn more about interactive tables.';\n",
              "          element.innerHTML = '';\n",
              "          dataTable['output_type'] = 'display_data';\n",
              "          await google.colab.output.renderOutput(dataTable, element);\n",
              "          const docLink = document.createElement('div');\n",
              "          docLink.innerHTML = docLinkHtml;\n",
              "          element.appendChild(docLink);\n",
              "        }\n",
              "      </script>\n",
              "    </div>\n",
              "  </div>\n",
              "  "
            ],
            "text/plain": [
              "   Id                                        title  ... spch pop\n",
              "0   1                                 My Happiness  ...    3  44\n",
              "1   2                             Unchained Melody  ...    3  37\n",
              "2   3                        How Deep Is Your Love  ...    3  77\n",
              "3   4                                Woman in Love  ...    3  67\n",
              "4   5  Goodbye Yellow Brick Road - Remastered 2014  ...    3  63\n",
              "\n",
              "[5 rows x 15 columns]"
            ]
          },
          "metadata": {},
          "execution_count": 66
        }
      ]
    },
    {
      "cell_type": "markdown",
      "source": [
        ">info() function provides us with information like size, data frames and data types of each features."
      ],
      "metadata": {
        "id": "B00KpEPj8DA7"
      }
    },
    {
      "cell_type": "code",
      "source": [
        "# all features and its datatypes\n",
        "data.info()"
      ],
      "metadata": {
        "colab": {
          "base_uri": "https://localhost:8080/"
        },
        "id": "GwjyX00eEzCz",
        "outputId": "97559ffe-83c2-4d79-a0d2-80f15d917bf7"
      },
      "execution_count": 67,
      "outputs": [
        {
          "output_type": "stream",
          "name": "stdout",
          "text": [
            "<class 'pandas.core.frame.DataFrame'>\n",
            "RangeIndex: 453 entries, 0 to 452\n",
            "Data columns (total 15 columns):\n",
            " #   Column     Non-Null Count  Dtype \n",
            "---  ------     --------------  ----- \n",
            " 0   Id         453 non-null    int64 \n",
            " 1   title      453 non-null    object\n",
            " 2   artist     453 non-null    object\n",
            " 3   top genre  438 non-null    object\n",
            " 4   year       453 non-null    int64 \n",
            " 5   bpm        453 non-null    int64 \n",
            " 6   nrgy       453 non-null    int64 \n",
            " 7   dnce       453 non-null    int64 \n",
            " 8   dB         453 non-null    int64 \n",
            " 9   live       453 non-null    int64 \n",
            " 10  val        453 non-null    int64 \n",
            " 11  dur        453 non-null    int64 \n",
            " 12  acous      453 non-null    int64 \n",
            " 13  spch       453 non-null    int64 \n",
            " 14  pop        453 non-null    int64 \n",
            "dtypes: int64(12), object(3)\n",
            "memory usage: 53.2+ KB\n"
          ]
        }
      ]
    },
    {
      "cell_type": "markdown",
      "source": [
        "###Statistical analysis\n",
        ">The decribe() function provides us with information like mean, standard deviation, and quartiles."
      ],
      "metadata": {
        "id": "ht0uEoan9XzT"
      }
    },
    {
      "cell_type": "code",
      "source": [
        "# to view the statistical details of the data\n",
        "data.describe().T"
      ],
      "metadata": {
        "colab": {
          "base_uri": "https://localhost:8080/",
          "height": 421
        },
        "id": "eo8BjGDiE7Q2",
        "outputId": "55d3af02-871b-4dd8-e6fd-f6646e861fa0"
      },
      "execution_count": 68,
      "outputs": [
        {
          "output_type": "execute_result",
          "data": {
            "text/html": [
              "\n",
              "  <div id=\"df-23429719-f501-4ac1-a716-dfeffb912a13\">\n",
              "    <div class=\"colab-df-container\">\n",
              "      <div>\n",
              "<style scoped>\n",
              "    .dataframe tbody tr th:only-of-type {\n",
              "        vertical-align: middle;\n",
              "    }\n",
              "\n",
              "    .dataframe tbody tr th {\n",
              "        vertical-align: top;\n",
              "    }\n",
              "\n",
              "    .dataframe thead th {\n",
              "        text-align: right;\n",
              "    }\n",
              "</style>\n",
              "<table border=\"1\" class=\"dataframe\">\n",
              "  <thead>\n",
              "    <tr style=\"text-align: right;\">\n",
              "      <th></th>\n",
              "      <th>count</th>\n",
              "      <th>mean</th>\n",
              "      <th>std</th>\n",
              "      <th>min</th>\n",
              "      <th>25%</th>\n",
              "      <th>50%</th>\n",
              "      <th>75%</th>\n",
              "      <th>max</th>\n",
              "    </tr>\n",
              "  </thead>\n",
              "  <tbody>\n",
              "    <tr>\n",
              "      <th>Id</th>\n",
              "      <td>453.0</td>\n",
              "      <td>227.000000</td>\n",
              "      <td>130.914094</td>\n",
              "      <td>1.0</td>\n",
              "      <td>114.0</td>\n",
              "      <td>227.0</td>\n",
              "      <td>340.0</td>\n",
              "      <td>453.0</td>\n",
              "    </tr>\n",
              "    <tr>\n",
              "      <th>year</th>\n",
              "      <td>453.0</td>\n",
              "      <td>1991.443709</td>\n",
              "      <td>16.776103</td>\n",
              "      <td>1948.0</td>\n",
              "      <td>1976.0</td>\n",
              "      <td>1994.0</td>\n",
              "      <td>2007.0</td>\n",
              "      <td>2019.0</td>\n",
              "    </tr>\n",
              "    <tr>\n",
              "      <th>bpm</th>\n",
              "      <td>453.0</td>\n",
              "      <td>118.399558</td>\n",
              "      <td>25.238713</td>\n",
              "      <td>62.0</td>\n",
              "      <td>100.0</td>\n",
              "      <td>119.0</td>\n",
              "      <td>133.0</td>\n",
              "      <td>199.0</td>\n",
              "    </tr>\n",
              "    <tr>\n",
              "      <th>nrgy</th>\n",
              "      <td>453.0</td>\n",
              "      <td>60.070640</td>\n",
              "      <td>22.205284</td>\n",
              "      <td>7.0</td>\n",
              "      <td>43.0</td>\n",
              "      <td>63.0</td>\n",
              "      <td>78.0</td>\n",
              "      <td>100.0</td>\n",
              "    </tr>\n",
              "    <tr>\n",
              "      <th>dnce</th>\n",
              "      <td>453.0</td>\n",
              "      <td>59.565121</td>\n",
              "      <td>15.484458</td>\n",
              "      <td>18.0</td>\n",
              "      <td>49.0</td>\n",
              "      <td>61.0</td>\n",
              "      <td>70.0</td>\n",
              "      <td>96.0</td>\n",
              "    </tr>\n",
              "    <tr>\n",
              "      <th>dB</th>\n",
              "      <td>453.0</td>\n",
              "      <td>-8.836645</td>\n",
              "      <td>3.577187</td>\n",
              "      <td>-24.0</td>\n",
              "      <td>-11.0</td>\n",
              "      <td>-8.0</td>\n",
              "      <td>-6.0</td>\n",
              "      <td>-1.0</td>\n",
              "    </tr>\n",
              "    <tr>\n",
              "      <th>live</th>\n",
              "      <td>453.0</td>\n",
              "      <td>17.757174</td>\n",
              "      <td>13.830300</td>\n",
              "      <td>2.0</td>\n",
              "      <td>9.0</td>\n",
              "      <td>13.0</td>\n",
              "      <td>23.0</td>\n",
              "      <td>93.0</td>\n",
              "    </tr>\n",
              "    <tr>\n",
              "      <th>val</th>\n",
              "      <td>453.0</td>\n",
              "      <td>59.465784</td>\n",
              "      <td>24.539868</td>\n",
              "      <td>6.0</td>\n",
              "      <td>42.0</td>\n",
              "      <td>61.0</td>\n",
              "      <td>80.0</td>\n",
              "      <td>99.0</td>\n",
              "    </tr>\n",
              "    <tr>\n",
              "      <th>dur</th>\n",
              "      <td>453.0</td>\n",
              "      <td>226.278146</td>\n",
              "      <td>63.770380</td>\n",
              "      <td>98.0</td>\n",
              "      <td>181.0</td>\n",
              "      <td>223.0</td>\n",
              "      <td>262.0</td>\n",
              "      <td>511.0</td>\n",
              "    </tr>\n",
              "    <tr>\n",
              "      <th>acous</th>\n",
              "      <td>453.0</td>\n",
              "      <td>32.982340</td>\n",
              "      <td>29.530015</td>\n",
              "      <td>0.0</td>\n",
              "      <td>7.0</td>\n",
              "      <td>24.0</td>\n",
              "      <td>58.0</td>\n",
              "      <td>100.0</td>\n",
              "    </tr>\n",
              "    <tr>\n",
              "      <th>spch</th>\n",
              "      <td>453.0</td>\n",
              "      <td>5.660044</td>\n",
              "      <td>5.550581</td>\n",
              "      <td>2.0</td>\n",
              "      <td>3.0</td>\n",
              "      <td>4.0</td>\n",
              "      <td>6.0</td>\n",
              "      <td>47.0</td>\n",
              "    </tr>\n",
              "    <tr>\n",
              "      <th>pop</th>\n",
              "      <td>453.0</td>\n",
              "      <td>60.743929</td>\n",
              "      <td>13.470083</td>\n",
              "      <td>26.0</td>\n",
              "      <td>53.0</td>\n",
              "      <td>63.0</td>\n",
              "      <td>71.0</td>\n",
              "      <td>84.0</td>\n",
              "    </tr>\n",
              "  </tbody>\n",
              "</table>\n",
              "</div>\n",
              "      <button class=\"colab-df-convert\" onclick=\"convertToInteractive('df-23429719-f501-4ac1-a716-dfeffb912a13')\"\n",
              "              title=\"Convert this dataframe to an interactive table.\"\n",
              "              style=\"display:none;\">\n",
              "        \n",
              "  <svg xmlns=\"http://www.w3.org/2000/svg\" height=\"24px\"viewBox=\"0 0 24 24\"\n",
              "       width=\"24px\">\n",
              "    <path d=\"M0 0h24v24H0V0z\" fill=\"none\"/>\n",
              "    <path d=\"M18.56 5.44l.94 2.06.94-2.06 2.06-.94-2.06-.94-.94-2.06-.94 2.06-2.06.94zm-11 1L8.5 8.5l.94-2.06 2.06-.94-2.06-.94L8.5 2.5l-.94 2.06-2.06.94zm10 10l.94 2.06.94-2.06 2.06-.94-2.06-.94-.94-2.06-.94 2.06-2.06.94z\"/><path d=\"M17.41 7.96l-1.37-1.37c-.4-.4-.92-.59-1.43-.59-.52 0-1.04.2-1.43.59L10.3 9.45l-7.72 7.72c-.78.78-.78 2.05 0 2.83L4 21.41c.39.39.9.59 1.41.59.51 0 1.02-.2 1.41-.59l7.78-7.78 2.81-2.81c.8-.78.8-2.07 0-2.86zM5.41 20L4 18.59l7.72-7.72 1.47 1.35L5.41 20z\"/>\n",
              "  </svg>\n",
              "      </button>\n",
              "      \n",
              "  <style>\n",
              "    .colab-df-container {\n",
              "      display:flex;\n",
              "      flex-wrap:wrap;\n",
              "      gap: 12px;\n",
              "    }\n",
              "\n",
              "    .colab-df-convert {\n",
              "      background-color: #E8F0FE;\n",
              "      border: none;\n",
              "      border-radius: 50%;\n",
              "      cursor: pointer;\n",
              "      display: none;\n",
              "      fill: #1967D2;\n",
              "      height: 32px;\n",
              "      padding: 0 0 0 0;\n",
              "      width: 32px;\n",
              "    }\n",
              "\n",
              "    .colab-df-convert:hover {\n",
              "      background-color: #E2EBFA;\n",
              "      box-shadow: 0px 1px 2px rgba(60, 64, 67, 0.3), 0px 1px 3px 1px rgba(60, 64, 67, 0.15);\n",
              "      fill: #174EA6;\n",
              "    }\n",
              "\n",
              "    [theme=dark] .colab-df-convert {\n",
              "      background-color: #3B4455;\n",
              "      fill: #D2E3FC;\n",
              "    }\n",
              "\n",
              "    [theme=dark] .colab-df-convert:hover {\n",
              "      background-color: #434B5C;\n",
              "      box-shadow: 0px 1px 3px 1px rgba(0, 0, 0, 0.15);\n",
              "      filter: drop-shadow(0px 1px 2px rgba(0, 0, 0, 0.3));\n",
              "      fill: #FFFFFF;\n",
              "    }\n",
              "  </style>\n",
              "\n",
              "      <script>\n",
              "        const buttonEl =\n",
              "          document.querySelector('#df-23429719-f501-4ac1-a716-dfeffb912a13 button.colab-df-convert');\n",
              "        buttonEl.style.display =\n",
              "          google.colab.kernel.accessAllowed ? 'block' : 'none';\n",
              "\n",
              "        async function convertToInteractive(key) {\n",
              "          const element = document.querySelector('#df-23429719-f501-4ac1-a716-dfeffb912a13');\n",
              "          const dataTable =\n",
              "            await google.colab.kernel.invokeFunction('convertToInteractive',\n",
              "                                                     [key], {});\n",
              "          if (!dataTable) return;\n",
              "\n",
              "          const docLinkHtml = 'Like what you see? Visit the ' +\n",
              "            '<a target=\"_blank\" href=https://colab.research.google.com/notebooks/data_table.ipynb>data table notebook</a>'\n",
              "            + ' to learn more about interactive tables.';\n",
              "          element.innerHTML = '';\n",
              "          dataTable['output_type'] = 'display_data';\n",
              "          await google.colab.output.renderOutput(dataTable, element);\n",
              "          const docLink = document.createElement('div');\n",
              "          docLink.innerHTML = docLinkHtml;\n",
              "          element.appendChild(docLink);\n",
              "        }\n",
              "      </script>\n",
              "    </div>\n",
              "  </div>\n",
              "  "
            ],
            "text/plain": [
              "       count         mean         std     min     25%     50%     75%     max\n",
              "Id     453.0   227.000000  130.914094     1.0   114.0   227.0   340.0   453.0\n",
              "year   453.0  1991.443709   16.776103  1948.0  1976.0  1994.0  2007.0  2019.0\n",
              "bpm    453.0   118.399558   25.238713    62.0   100.0   119.0   133.0   199.0\n",
              "nrgy   453.0    60.070640   22.205284     7.0    43.0    63.0    78.0   100.0\n",
              "dnce   453.0    59.565121   15.484458    18.0    49.0    61.0    70.0    96.0\n",
              "dB     453.0    -8.836645    3.577187   -24.0   -11.0    -8.0    -6.0    -1.0\n",
              "live   453.0    17.757174   13.830300     2.0     9.0    13.0    23.0    93.0\n",
              "val    453.0    59.465784   24.539868     6.0    42.0    61.0    80.0    99.0\n",
              "dur    453.0   226.278146   63.770380    98.0   181.0   223.0   262.0   511.0\n",
              "acous  453.0    32.982340   29.530015     0.0     7.0    24.0    58.0   100.0\n",
              "spch   453.0     5.660044    5.550581     2.0     3.0     4.0     6.0    47.0\n",
              "pop    453.0    60.743929   13.470083    26.0    53.0    63.0    71.0    84.0"
            ]
          },
          "metadata": {},
          "execution_count": 68
        }
      ]
    },
    {
      "cell_type": "markdown",
      "source": [
        ">The median is calculated for acoustics data and found to be 24. The 0 values of the acoustics data are replaced with 24"
      ],
      "metadata": {
        "id": "EzLQsxTEJ42N"
      }
    },
    {
      "cell_type": "code",
      "source": [
        "# to find median of the acous column\n",
        "import math\n",
        "median_acous = math.floor(data.acous.median())\n",
        "median_acous"
      ],
      "metadata": {
        "colab": {
          "base_uri": "https://localhost:8080/"
        },
        "id": "L-5wMRazeLg-",
        "outputId": "dedb7670-1cb7-41ec-8c2e-e05dc1f40e96"
      },
      "execution_count": 69,
      "outputs": [
        {
          "output_type": "execute_result",
          "data": {
            "text/plain": [
              "24"
            ]
          },
          "metadata": {},
          "execution_count": 69
        }
      ]
    },
    {
      "cell_type": "code",
      "source": [
        "# replace the acous with 0 values with the found median value\n",
        "data.acous = data.acous.replace(0,median_acous)"
      ],
      "metadata": {
        "id": "RD2PxBPWePv1"
      },
      "execution_count": 70,
      "outputs": []
    },
    {
      "cell_type": "markdown",
      "source": [
        "###Data visualisation\n",
        ">Data visualisation is critical to understand the dataset and detect any outliers, errors etc. this is done using creating a histogram plot, box plot and linear correlation matrix."
      ],
      "metadata": {
        "id": "tY2oK4hX9hvb"
      }
    },
    {
      "cell_type": "markdown",
      "source": [
        "####Histogram Plot\n",
        ">The histogram is helpful to understand the distribution of the data as they are grouped into bins. We can observe that the live and speech are highly skewed to one region. We will perform normalisation later in this code."
      ],
      "metadata": {
        "id": "KGQOagBNwAxH"
      }
    },
    {
      "cell_type": "code",
      "source": [
        "#Frequency distribution of elements in the dataset\n",
        "import matplotlib.pyplot as plt\n",
        "data.hist(bins=25, figsize=(20,20))\n",
        "plt.show()"
      ],
      "metadata": {
        "colab": {
          "base_uri": "https://localhost:8080/",
          "height": 1000
        },
        "id": "WHsI63upv6tR",
        "outputId": "9fb19c9d-30d9-4bae-c5bd-3e0aabc6cc75"
      },
      "execution_count": 71,
      "outputs": [
        {
          "output_type": "display_data",
          "data": {
            "image/png": "[encoded data removed]",
            "text/plain": [
              "<Figure size 1440x1440 with 12 Axes>"
            ]
          },
          "metadata": {
            "needs_background": "light"
          }
        }
      ]
    },
    {
      "cell_type": "markdown",
      "source": [
        "####Box Plot\n",
        ">The Boxplot is used to observe how the data is distributed based on minimum, maximum and quartile calculations. The Seaborn package is used for creating the box plot."
      ],
      "metadata": {
        "id": "x-U2-DMcxIla"
      }
    },
    {
      "cell_type": "code",
      "source": [
        "#Create a Box Plot of features in the dataset\n",
        "import seaborn as sns \n",
        "%matplotlib inline\n",
        "import matplotlib.style as style\n",
        "style.use('seaborn-poster')\n",
        "#style.use('ggplot')\n",
        "sns.boxplot(data=data.drop(['Id','title', 'year','artist', 'top genre'], axis=1))\n",
        "plt.xlabel('Features')\n",
        "plt.ylabel('Value')\n",
        "plt.show()"
      ],
      "metadata": {
        "colab": {
          "base_uri": "https://localhost:8080/",
          "height": 561
        },
        "id": "2dO9yFstwDpC",
        "outputId": "7d8908ba-299e-4e46-dec7-a65ad8ba584d"
      },
      "execution_count": 72,
      "outputs": [
        {
          "output_type": "display_data",
          "data": {
            "image/png": "[encoded data removed]",
            "text/plain": [
              "<Figure size 921.6x633.6 with 1 Axes>"
            ]
          },
          "metadata": {
            "needs_background": "light"
          }
        }
      ]
    },
    {
      "cell_type": "markdown",
      "source": [
        ">>The distribution of features like speech and loudness seems to be very low. While the duration is most widely distributed."
      ],
      "metadata": {
        "id": "cT61v4eA0cXc"
      }
    },
    {
      "cell_type": "markdown",
      "source": [
        "####Linear Correlation Matrix\n",
        ">The Linear Correlation Matrix is used to demonstrate a linear correlation between the dataset's features. We can observe the correlation between all the features. This is visualised using a heat map. The green blocks show a high correlation."
      ],
      "metadata": {
        "id": "qvtmTgXExCRj"
      }
    },
    {
      "cell_type": "code",
      "source": [
        "corrInx=data.corr()\n",
        "top_corrInx=corrInx.index\n",
        "plt.figure(figsize=(15,15))\n",
        "plt.title('Linear Correlation Matrix')\n",
        "sns.heatmap(data[top_corrInx].corr(), annot=True, cmap='RdYlGn')\n"
      ],
      "metadata": {
        "colab": {
          "base_uri": "https://localhost:8080/",
          "height": 914
        },
        "id": "egdZMhNMFgN6",
        "outputId": "54afad61-80ae-415f-9809-cea7ef4c5f2b"
      },
      "execution_count": 73,
      "outputs": [
        {
          "output_type": "execute_result",
          "data": {
            "text/plain": [
              "<matplotlib.axes._subplots.AxesSubplot at 0x7ff832774610>"
            ]
          },
          "metadata": {},
          "execution_count": 73
        },
        {
          "output_type": "display_data",
          "data": {
            "image/png": "[encoded data removed]",
            "text/plain": [
              "<Figure size 1080x1080 with 2 Axes>"
            ]
          },
          "metadata": {
            "needs_background": "light"
          }
        }
      ]
    },
    {
      "cell_type": "markdown",
      "source": [
        ">Some of the observations from the heatmap:\n",
        "\n",
        "\n",
        ">>* Loudness and energy are highly correlated, which means the louder the song, the higher the energy.\n",
        "*  Acoustics and energy seem to be highly inverse correlated, which means the higher the energy, the lower the acoustics.\n",
        "*  Year and liveness seem to have a very low correlation.\n",
        "\n"
      ],
      "metadata": {
        "id": "QsvhUZnF1ame"
      }
    },
    {
      "cell_type": "markdown",
      "source": [
        "###Outliers\n",
        ">Outliers are instances with abnormal differnce to other values of the same group. This is identified from the get_outlier_counts() function and then the number of outliers are calulated."
      ],
      "metadata": {
        "id": "dt9qr55_-Saq"
      }
    },
    {
      "cell_type": "code",
      "source": [
        "from scipy import stats\n",
        "import numpy as np\n",
        "def get_outlier_counts(df, threshold):\n",
        "    df = df.copy()\n",
        "    \n",
        "    # Get the z-score for specified threshold\n",
        "    threshold_z_score = stats.norm.ppf(threshold)\n",
        "    \n",
        "    # Get the z-scores for each value in df\n",
        "    z_score_df = pd.DataFrame(np.abs(stats.zscore(df)), columns=df.columns)\n",
        "    \n",
        "    # Compare df z_scores to the threshold and return the count of outliers in each column\n",
        "    return (z_score_df > threshold_z_score).sum(axis=0)"
      ],
      "metadata": {
        "id": "ZUCJxrKu-Dae"
      },
      "execution_count": 74,
      "outputs": []
    },
    {
      "cell_type": "code",
      "source": [
        "get_outlier_counts(data.drop(columns=['title','artist','Id','top genre']), 0.9999999)"
      ],
      "metadata": {
        "colab": {
          "base_uri": "https://localhost:8080/"
        },
        "id": "2Z8KBh4S-LHT",
        "outputId": "ecd23e07-b21d-4340-a3ad-ede5c4de84bf"
      },
      "execution_count": 75,
      "outputs": [
        {
          "output_type": "execute_result",
          "data": {
            "text/plain": [
              "year     0\n",
              "bpm      0\n",
              "nrgy     0\n",
              "dnce     0\n",
              "dB       0\n",
              "live     1\n",
              "val      0\n",
              "dur      0\n",
              "acous    0\n",
              "spch     4\n",
              "pop      0\n",
              "dtype: int64"
            ]
          },
          "metadata": {},
          "execution_count": 75
        }
      ]
    },
    {
      "cell_type": "markdown",
      "source": [
        ">>The dataset seems to have 1 'live' outlier and 4 'spch' outliers. Since there seems to be a relatively small number of outliers compared to the rest of the dataset, removing them may not produce a significant difference in accuracy score."
      ],
      "metadata": {
        "id": "euAj4rKM3zHe"
      }
    },
    {
      "cell_type": "markdown",
      "source": [
        "##Data Pre-processing"
      ],
      "metadata": {
        "id": "8yl3szoT-LIj"
      }
    },
    {
      "cell_type": "markdown",
      "source": [
        "###Preparing the data\n",
        ">The data is then seperated to input features like beats per minute, energy, danceability, loudness, liveness, valence, duration, acustics, speechiness, popularity and targeted feature which here is top genre."
      ],
      "metadata": {
        "id": "z662p37L97kM"
      }
    },
    {
      "cell_type": "code",
      "source": [
        "# assign values to X & Y columns and get x_data (input features), y_data(targeted features)\n",
        "x_cols = ['bpm','nrgy','dnce','dB','live','val','dur','spch','acous']\n",
        "y_cols = ['pop']\n",
        "x_data = data[x_cols]\n",
        "y_data = data[y_cols].values.ravel()"
      ],
      "metadata": {
        "id": "5B2mSfj5GW9X"
      },
      "execution_count": 76,
      "outputs": []
    },
    {
      "cell_type": "markdown",
      "source": [
        "###Scaling the features of the dataset\n",
        ">The data is then scaled to normalise the data since they may vary widely. This is performed using Standard Scaler class."
      ],
      "metadata": {
        "id": "zugYmaRp9yNa"
      }
    },
    {
      "cell_type": "code",
      "source": [
        "# scale the x values to get better predicted value (The scaling normalize the data)\n",
        "from sklearn.preprocessing import StandardScaler\n",
        "std_scaler = StandardScaler()\n",
        "x_scaled = std_scaler.fit_transform(x_data)"
      ],
      "metadata": {
        "id": "k3iaI5ao9udQ"
      },
      "execution_count": 77,
      "outputs": []
    },
    {
      "cell_type": "markdown",
      "source": [
        "###Split and train model function\n",
        ">The train_model() function here performs three things, test/train split, train the model, predict and return the accuracy score values of the predictions. The train set and test set separation are done 90/10 per cent, respectively. We tested our models with 80/20 and 70/30 split, but the 90/10 split consistently produced a better accuracy."
      ],
      "metadata": {
        "id": "mw82dhFae4uM"
      }
    },
    {
      "cell_type": "code",
      "source": [
        "# split the existing sample data and fit it to training data for find RMSE\n",
        "from sklearn.model_selection import train_test_split\n",
        "from sklearn.model_selection import cross_val_score, train_test_split\n",
        "from sklearn.metrics import mean_squared_error\n",
        "def train_model(model, x, y):\n",
        "  x_train, x_test, y_train, y_test = train_test_split(x, y, random_state=100, test_size=0.10)\n",
        "  x_train.shape, x_test.shape\n",
        "  model.fit(x_train,y_train)\n",
        "  pred = model.predict(x_test)\n",
        "  print('RMSE :', np.sqrt(mean_squared_error(y_test,pred)))"
      ],
      "metadata": {
        "id": "vU81-Wj0HN8H"
      },
      "execution_count": 78,
      "outputs": []
    },
    {
      "cell_type": "markdown",
      "source": [
        "##Select and Train Model"
      ],
      "metadata": {
        "id": "Zm6Yy3Ag-94o"
      }
    },
    {
      "cell_type": "markdown",
      "source": [
        "###Linear Regresion Model\n",
        ">Linear Regression is based on **Supervised learning** and predicts the values considering independent variables. It's simple to implement and calculates output coefficients. But the main problem of this model is the assumption of linearity between the dependent and independent variables, and it is sensitive to outliers. Therefore, outliers need to be removed to train this model."
      ],
      "metadata": {
        "id": "EsjtN-t6BL9O"
      }
    },
    {
      "cell_type": "code",
      "source": [
        "# To use LinearRegression libraries for RMSE with scaled data\n",
        "from sklearn.linear_model import LinearRegression\n",
        "model = LinearRegression()\n",
        "model.fit(x_scaled, y_data)\n",
        "train_model(model, x_scaled, y_data)"
      ],
      "metadata": {
        "colab": {
          "base_uri": "https://localhost:8080/"
        },
        "id": "wZsOiwD_OFf6",
        "outputId": "9b5e562c-d633-44d4-c303-ac83b42e28c8"
      },
      "execution_count": 79,
      "outputs": [
        {
          "output_type": "stream",
          "name": "stdout",
          "text": [
            "RMSE : 11.41745850071499\n"
          ]
        }
      ]
    },
    {
      "cell_type": "markdown",
      "source": [
        ">>The linear regression model was the base model we trained to check how they performed with our dataset. The RMSE value came out to be 11.41. The RMSE value is high because the dataset is nonlinear and contain outliers."
      ],
      "metadata": {
        "id": "zGQIDcpkOhpa"
      }
    },
    {
      "cell_type": "markdown",
      "source": [
        "###Support Vector Machine(Regressor) Model\n",
        ">SVM is a **Supervised learning** algorithm and supports regression as well. It's a compelling model, even with high dimensional data. The advantage of SVM is that if the training data has more features than the number of rows, it performs well. The biggest issue with SVM is that it may not perform well on a large dataset. The regressor will also underperform when the dataset is noisy and overlaps the target classes. "
      ],
      "metadata": {
        "id": "M_728m0_BQm2"
      }
    },
    {
      "cell_type": "code",
      "source": [
        "# To use SVR library for RMSE scaled data\n",
        "from sklearn.svm import SVR\n",
        "svr_model = SVR(kernel=\"poly\", degree=1, C=100, epsilon=0.1)\n",
        "svr_model.fit(x_scaled, y_data)\n",
        "train_model(svr_model, x_scaled,y_data)"
      ],
      "metadata": {
        "colab": {
          "base_uri": "https://localhost:8080/"
        },
        "id": "2srEA_hqSJnh",
        "outputId": "c1496e5b-87a7-4851-8a71-e4497631aa65"
      },
      "execution_count": 80,
      "outputs": [
        {
          "output_type": "stream",
          "name": "stdout",
          "text": [
            "RMSE : 11.737709859674228\n"
          ]
        }
      ]
    },
    {
      "cell_type": "markdown",
      "source": [
        ">> After performing Hyperparameter tuning to our support vector regressor on parameters like kernel, degree and C., we got the lowest RMSE score with a Polynomial kernel with a degree 1 and c =100. The trained model produced the average RMSE score of 11.74. There is still more room for improvement."
      ],
      "metadata": {
        "id": "Tmygy-mKwuWf"
      }
    },
    {
      "cell_type": "markdown",
      "source": [
        "###Random Forest Regressor Model\n",
        ">Random Forest Regressor uses a bagging algorithm, and it is based on the ensemble Learning technique. It creates many trees on a subset of training data and combines the output of all the trees to make a prediction. Also, it effectively handles missing values and is robust to controlling outliers automatically. The disadvantage of this model is that it needs much more computational power and resources. Compared to a decision tree, a random forest regressor is a much more time consuming when the number of trees increases."
      ],
      "metadata": {
        "id": "19yArUqpBfef"
      }
    },
    {
      "cell_type": "code",
      "source": [
        "# To use RandomForestRegressor library for RMSE scaled data\n",
        "from sklearn.ensemble import RandomForestRegressor\n",
        "rf_model = RandomForestRegressor(n_estimators=100, random_state=42)\n",
        "rf_model.fit(x_scaled, y_data)\n",
        "train_model(rf_model, x_scaled, y_data)"
      ],
      "metadata": {
        "colab": {
          "base_uri": "https://localhost:8080/"
        },
        "id": "awYL7f-BVISi",
        "outputId": "e5b83a90-9f85-4657-c6bd-1596cf9eb14a"
      },
      "execution_count": 81,
      "outputs": [
        {
          "output_type": "stream",
          "name": "stdout",
          "text": [
            "RMSE : 10.115067001003139\n"
          ]
        }
      ]
    },
    {
      "cell_type": "markdown",
      "source": [
        ">>When we initially trained the model, we immediately got a lower RMSE than the previous models. Our mean RMSE was 11.56. To improve our model, we performed hyperparameter tuning on the n_estimators parameter. We finally landed with n_estimators=100 producing the lowest RMSE values.\n"
      ],
      "metadata": {
        "id": "UxuEJFR11vw4"
      }
    },
    {
      "cell_type": "markdown",
      "source": [
        "###Bagging with Decision Tree Regressor Model\n",
        ">Bagging is based on an ensemble learning algorithm. We used Decision Tree Regressor for bagging and produced a better-predicted value. The advantage of the model is that it avoids over-fitting while also performing well on a high dimensional dataset. The missing values do not affect the performance of this algorithm. Though the decision tree classifier may not produce a better prediction, the final prediction from the bagging classifier is much better.\n"
      ],
      "metadata": {
        "id": "QYG76sfUBmku"
      }
    },
    {
      "cell_type": "code",
      "source": [
        "# Using ensemble learning method with BaggingRegressor model \n",
        "from sklearn import ensemble\n",
        "from sklearn.tree import DecisionTreeRegressor\n",
        "from sklearn.ensemble import BaggingRegressor\n",
        "ensemble = BaggingRegressor(base_estimator=DecisionTreeRegressor(),\n",
        "                            n_estimators=100, # number of base estimators in ensemble\n",
        "                            max_samples=0.5,  # 50% of samples taken from existing instances\n",
        "                            max_features=1.0, # 100% of features are taken\n",
        "                            bootstrap_features=False, # it represent samples taken without feature replacement\n",
        "                            random_state=0)\n",
        "ensemble.fit(x_scaled, y_data)\n",
        "train_model(ensemble, x_scaled, y_data)"
      ],
      "metadata": {
        "colab": {
          "base_uri": "https://localhost:8080/"
        },
        "id": "QTcwHnm2WfMo",
        "outputId": "a01033e9-1303-4547-deae-077eb9bc2c70"
      },
      "execution_count": 82,
      "outputs": [
        {
          "output_type": "stream",
          "name": "stdout",
          "text": [
            "RMSE : 9.858062248958861\n"
          ]
        }
      ]
    },
    {
      "cell_type": "markdown",
      "source": [
        ">>We made Decision Tree Regressor the base estimator because it is faster than Random Forest. We performed hyperparameter tuning for n_estimators and max samples. The lowest RMSE value was produced when n_estimators was 100. this helped us achieve maximum predictions as possible. Also, max_samples were set to 0.5 as we want 50% of samples to be taken from existing instances. Max_features as 1.0 as 100% of features are required for our prediction and having bootstrap as false to perform pasting. The average RMSE value our model produced is 9.85."
      ],
      "metadata": {
        "id": "BRkhZ13x3xXh"
      }
    },
    {
      "cell_type": "markdown",
      "source": [
        "###Our Final Model\n",
        ">Stacking is an ensemble learning model which contains several base models and the predictions of these models and fed into blender or meta learner. This final regressor takes inputs from the base regressors and makes a final prediction. Our model consists of a Decision Tree Regressor and a Bagging Regressor with Random Forest Regressor as the final estimator. "
      ],
      "metadata": {
        "id": "MwLyF3fiBuLP"
      }
    },
    {
      "cell_type": "code",
      "source": [
        "# Using ensemble learning method with StackingRegressor model\n",
        "from sklearn.ensemble import StackingRegressor\n",
        "# Using DecisionTreeRegressor & BaggingRegressor model for initial predictions on stacking\n",
        "estimatorsList = [\n",
        "                  ('dt', DecisionTreeRegressor(min_samples_leaf=9)),\n",
        "                  ('bg', BaggingRegressor(base_estimator=DecisionTreeRegressor(),\n",
        "                                          n_estimators=100,\n",
        "                                          max_samples=0.5,\n",
        "                                          max_features=1.0,\n",
        "                                          bootstrap_features=False,\n",
        "                                          random_state=20))\n",
        "                  ]\n",
        "# Using RandomForestRegressor as final estimator to train a generalized model\n",
        "sr_model = StackingRegressor(estimators=estimatorsList,\n",
        "                             final_estimator=RandomForestRegressor(n_estimators=100, random_state=20))\n",
        "sr_model.fit(x_scaled, y_data)\n",
        "train_model(sr_model, x_scaled, y_data)            \n"
      ],
      "metadata": {
        "colab": {
          "base_uri": "https://localhost:8080/"
        },
        "id": "fzzp7fs1ZLrc",
        "outputId": "0a525d16-fd64-40d0-9eb9-00a9a35326f0"
      },
      "execution_count": 87,
      "outputs": [
        {
          "output_type": "stream",
          "name": "stdout",
          "text": [
            "RMSE : 8.374449487999383\n"
          ]
        }
      ]
    },
    {
      "cell_type": "markdown",
      "source": [
        ">> As mentioned above, our final model consists of a bagging regressor and decision tree regressor as the base estimators and random forest as our final estimator. We already performed hyperparameter tuning for bagging regressor in one of our previous models. We performed hyper-parameter tuning for random forest regressor using grid search and found that the n_estimator = 100 is the model that produced the lowest RMSE value. \n",
        "\n",
        ">>We chose stacking as our final model because it combines our better performing models and produces an overall better model to predict the target value. This is evident in our RMSE score = 8.3844, which is the lowest we achieved. Our model does not reach an even lower RMSE score because decision trees can be ineffective when regression on continuous values. Since the dataset is small and noisy, decision trees often become unstable and make poor predictions. It's also time-consuming and can get complex. \n",
        "\n",
        ">>Our model performs better when training with an RMSE value of 8.3844, but when we uploaded our predictions to Kaggle, our RMSE Value was 9.22, which is higher than our score obtained while training. This is possibly due to the overfitting of the training data. Our model does not produce the best solution, but we can significantly improve with further optimising our model. \n",
        "\n"
      ],
      "metadata": {
        "id": "pAH7s0pi6FWt"
      }
    },
    {
      "cell_type": "markdown",
      "source": [
        "##Conclusion\n",
        ">>We can further improve the model by only using highly correlated features with our target (top genre). This can be done when the dataset is more extensive, and the instances in the dataset are distributed evenly. We can perform more data analysis and data cleaning to get a lower RMSE score. Another suggestion is to use different classifiers for stacking that serve better. We can also perform multi-layer stacking to get an even more accurate prediction. In the end, We learned to perform end to end machine learning, and in future, we would like to explore neural networks as a possible solution to accomplish this regression task. \n"
      ],
      "metadata": {
        "id": "AcsIYMHijgDu"
      }
    },
    {
      "cell_type": "markdown",
      "source": [
        "##Appendix: Loading the prediction to the test file"
      ],
      "metadata": {
        "id": "ajfX_U0ZB0bY"
      }
    },
    {
      "cell_type": "code",
      "source": [
        "# Load the test file\n",
        "test = pd.read_csv(\"CS98XRegressionTest.csv\")\n",
        "test_copy = test.copy() # Create copy file to retain the original dataset\n",
        "test_copy.drop(['Id','title','artist','top genre','year'], axis=1, inplace=True)\n",
        "test_scaled = std_scaler.fit_transform(test_copy) # fit the test_copy\n",
        "\n",
        "#using StackingRegressor model because it gives lowest RMSE value which is RMSE : 8.374449487999383\n",
        "pred = sr_model.predict(test_scaled)  \n",
        "pred_round = pred.astype(int)\n",
        "test['pop'] = pred_round  # round the value of predicted pop\n",
        "#Note: CS98XRegressionTest.csv.csv has to be added for each test run\n",
        "test.to_csv(\"CS98XRegressionTest.csv\") # load the final predicted pop into original test file\n",
        "test.head(5)"
      ],
      "metadata": {
        "colab": {
          "base_uri": "https://localhost:8080/",
          "height": 316
        },
        "id": "UOMWuEJYeGgk",
        "outputId": "e3ce1741-dc7d-448b-e0fe-d83be37eda6b"
      },
      "execution_count": 84,
      "outputs": [
        {
          "output_type": "execute_result",
          "data": {
            "text/html": [
              "\n",
              "  <div id=\"df-b76d503c-50b2-4223-bbc0-18c545a305ad\">\n",
              "    <div class=\"colab-df-container\">\n",
              "      <div>\n",
              "<style scoped>\n",
              "    .dataframe tbody tr th:only-of-type {\n",
              "        vertical-align: middle;\n",
              "    }\n",
              "\n",
              "    .dataframe tbody tr th {\n",
              "        vertical-align: top;\n",
              "    }\n",
              "\n",
              "    .dataframe thead th {\n",
              "        text-align: right;\n",
              "    }\n",
              "</style>\n",
              "<table border=\"1\" class=\"dataframe\">\n",
              "  <thead>\n",
              "    <tr style=\"text-align: right;\">\n",
              "      <th></th>\n",
              "      <th>Id</th>\n",
              "      <th>title</th>\n",
              "      <th>artist</th>\n",
              "      <th>top genre</th>\n",
              "      <th>year</th>\n",
              "      <th>bpm</th>\n",
              "      <th>nrgy</th>\n",
              "      <th>dnce</th>\n",
              "      <th>dB</th>\n",
              "      <th>live</th>\n",
              "      <th>val</th>\n",
              "      <th>dur</th>\n",
              "      <th>acous</th>\n",
              "      <th>spch</th>\n",
              "      <th>pop</th>\n",
              "    </tr>\n",
              "  </thead>\n",
              "  <tbody>\n",
              "    <tr>\n",
              "      <th>0</th>\n",
              "      <td>454</td>\n",
              "      <td>Pump It</td>\n",
              "      <td>The Black Eyed Peas</td>\n",
              "      <td>dance pop</td>\n",
              "      <td>2005</td>\n",
              "      <td>154</td>\n",
              "      <td>93</td>\n",
              "      <td>65</td>\n",
              "      <td>-3</td>\n",
              "      <td>75</td>\n",
              "      <td>74</td>\n",
              "      <td>213</td>\n",
              "      <td>1</td>\n",
              "      <td>18</td>\n",
              "      <td>65</td>\n",
              "    </tr>\n",
              "    <tr>\n",
              "      <th>1</th>\n",
              "      <td>455</td>\n",
              "      <td>Circle of Life - From \"The Lion King\"/Soundtra...</td>\n",
              "      <td>Elton John</td>\n",
              "      <td>glam rock</td>\n",
              "      <td>1994</td>\n",
              "      <td>161</td>\n",
              "      <td>39</td>\n",
              "      <td>30</td>\n",
              "      <td>-15</td>\n",
              "      <td>11</td>\n",
              "      <td>14</td>\n",
              "      <td>292</td>\n",
              "      <td>26</td>\n",
              "      <td>3</td>\n",
              "      <td>60</td>\n",
              "    </tr>\n",
              "    <tr>\n",
              "      <th>2</th>\n",
              "      <td>456</td>\n",
              "      <td>We Are The Champions - Remastered 2011</td>\n",
              "      <td>Queen</td>\n",
              "      <td>glam rock</td>\n",
              "      <td>1977</td>\n",
              "      <td>64</td>\n",
              "      <td>46</td>\n",
              "      <td>27</td>\n",
              "      <td>-7</td>\n",
              "      <td>12</td>\n",
              "      <td>18</td>\n",
              "      <td>179</td>\n",
              "      <td>38</td>\n",
              "      <td>3</td>\n",
              "      <td>58</td>\n",
              "    </tr>\n",
              "    <tr>\n",
              "      <th>3</th>\n",
              "      <td>457</td>\n",
              "      <td>Insomnia - Radio Edit</td>\n",
              "      <td>Faithless</td>\n",
              "      <td>big beat</td>\n",
              "      <td>2010</td>\n",
              "      <td>127</td>\n",
              "      <td>92</td>\n",
              "      <td>71</td>\n",
              "      <td>-9</td>\n",
              "      <td>37</td>\n",
              "      <td>53</td>\n",
              "      <td>216</td>\n",
              "      <td>6</td>\n",
              "      <td>4</td>\n",
              "      <td>61</td>\n",
              "    </tr>\n",
              "    <tr>\n",
              "      <th>4</th>\n",
              "      <td>458</td>\n",
              "      <td>This Eve of Parting</td>\n",
              "      <td>John Hartford</td>\n",
              "      <td>appalachian folk</td>\n",
              "      <td>2018</td>\n",
              "      <td>115</td>\n",
              "      <td>46</td>\n",
              "      <td>56</td>\n",
              "      <td>-12</td>\n",
              "      <td>21</td>\n",
              "      <td>34</td>\n",
              "      <td>153</td>\n",
              "      <td>18</td>\n",
              "      <td>3</td>\n",
              "      <td>44</td>\n",
              "    </tr>\n",
              "  </tbody>\n",
              "</table>\n",
              "</div>\n",
              "      <button class=\"colab-df-convert\" onclick=\"convertToInteractive('df-b76d503c-50b2-4223-bbc0-18c545a305ad')\"\n",
              "              title=\"Convert this dataframe to an interactive table.\"\n",
              "              style=\"display:none;\">\n",
              "        \n",
              "  <svg xmlns=\"http://www.w3.org/2000/svg\" height=\"24px\"viewBox=\"0 0 24 24\"\n",
              "       width=\"24px\">\n",
              "    <path d=\"M0 0h24v24H0V0z\" fill=\"none\"/>\n",
              "    <path d=\"M18.56 5.44l.94 2.06.94-2.06 2.06-.94-2.06-.94-.94-2.06-.94 2.06-2.06.94zm-11 1L8.5 8.5l.94-2.06 2.06-.94-2.06-.94L8.5 2.5l-.94 2.06-2.06.94zm10 10l.94 2.06.94-2.06 2.06-.94-2.06-.94-.94-2.06-.94 2.06-2.06.94z\"/><path d=\"M17.41 7.96l-1.37-1.37c-.4-.4-.92-.59-1.43-.59-.52 0-1.04.2-1.43.59L10.3 9.45l-7.72 7.72c-.78.78-.78 2.05 0 2.83L4 21.41c.39.39.9.59 1.41.59.51 0 1.02-.2 1.41-.59l7.78-7.78 2.81-2.81c.8-.78.8-2.07 0-2.86zM5.41 20L4 18.59l7.72-7.72 1.47 1.35L5.41 20z\"/>\n",
              "  </svg>\n",
              "      </button>\n",
              "      \n",
              "  <style>\n",
              "    .colab-df-container {\n",
              "      display:flex;\n",
              "      flex-wrap:wrap;\n",
              "      gap: 12px;\n",
              "    }\n",
              "\n",
              "    .colab-df-convert {\n",
              "      background-color: #E8F0FE;\n",
              "      border: none;\n",
              "      border-radius: 50%;\n",
              "      cursor: pointer;\n",
              "      display: none;\n",
              "      fill: #1967D2;\n",
              "      height: 32px;\n",
              "      padding: 0 0 0 0;\n",
              "      width: 32px;\n",
              "    }\n",
              "\n",
              "    .colab-df-convert:hover {\n",
              "      background-color: #E2EBFA;\n",
              "      box-shadow: 0px 1px 2px rgba(60, 64, 67, 0.3), 0px 1px 3px 1px rgba(60, 64, 67, 0.15);\n",
              "      fill: #174EA6;\n",
              "    }\n",
              "\n",
              "    [theme=dark] .colab-df-convert {\n",
              "      background-color: #3B4455;\n",
              "      fill: #D2E3FC;\n",
              "    }\n",
              "\n",
              "    [theme=dark] .colab-df-convert:hover {\n",
              "      background-color: #434B5C;\n",
              "      box-shadow: 0px 1px 3px 1px rgba(0, 0, 0, 0.15);\n",
              "      filter: drop-shadow(0px 1px 2px rgba(0, 0, 0, 0.3));\n",
              "      fill: #FFFFFF;\n",
              "    }\n",
              "  </style>\n",
              "\n",
              "      <script>\n",
              "        const buttonEl =\n",
              "          document.querySelector('#df-b76d503c-50b2-4223-bbc0-18c545a305ad button.colab-df-convert');\n",
              "        buttonEl.style.display =\n",
              "          google.colab.kernel.accessAllowed ? 'block' : 'none';\n",
              "\n",
              "        async function convertToInteractive(key) {\n",
              "          const element = document.querySelector('#df-b76d503c-50b2-4223-bbc0-18c545a305ad');\n",
              "          const dataTable =\n",
              "            await google.colab.kernel.invokeFunction('convertToInteractive',\n",
              "                                                     [key], {});\n",
              "          if (!dataTable) return;\n",
              "\n",
              "          const docLinkHtml = 'Like what you see? Visit the ' +\n",
              "            '<a target=\"_blank\" href=https://colab.research.google.com/notebooks/data_table.ipynb>data table notebook</a>'\n",
              "            + ' to learn more about interactive tables.';\n",
              "          element.innerHTML = '';\n",
              "          dataTable['output_type'] = 'display_data';\n",
              "          await google.colab.output.renderOutput(dataTable, element);\n",
              "          const docLink = document.createElement('div');\n",
              "          docLink.innerHTML = docLinkHtml;\n",
              "          element.appendChild(docLink);\n",
              "        }\n",
              "      </script>\n",
              "    </div>\n",
              "  </div>\n",
              "  "
            ],
            "text/plain": [
              "    Id                                              title  ... spch pop\n",
              "0  454                                            Pump It  ...   18  65\n",
              "1  455  Circle of Life - From \"The Lion King\"/Soundtra...  ...    3  60\n",
              "2  456             We Are The Champions - Remastered 2011  ...    3  58\n",
              "3  457                              Insomnia - Radio Edit  ...    4  61\n",
              "4  458                                This Eve of Parting  ...    3  44\n",
              "\n",
              "[5 rows x 15 columns]"
            ]
          },
          "metadata": {},
          "execution_count": 84
        }
      ]
    }
  ]
}
